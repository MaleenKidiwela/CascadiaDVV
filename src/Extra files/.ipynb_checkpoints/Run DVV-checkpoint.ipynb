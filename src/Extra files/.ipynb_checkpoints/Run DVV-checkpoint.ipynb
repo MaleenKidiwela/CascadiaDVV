{
 "cells": [
  {
   "cell_type": "code",
   "execution_count": 1,
   "id": "6f90755d",
   "metadata": {},
   "outputs": [
    {
     "name": "stderr",
     "output_type": "stream",
     "text": [
      "WARNING: could not import HDF5.Group into _hdf5_implementation\n",
      "WARNING: could not import HDF5.Dataset into _hdf5_implementation\n",
      "┌ Warning: Error requiring `HDF5` from `Plots`\n",
      "│   exception = (LoadError(\"/home/jupyter_share/.julia/packages/Plots/GGa6i/src/backends/hdf5.jl\", 36, UndefVarError(:Group)), Union{Ptr{Nothing}, Base.InterpreterIP}[Ptr{Nothing} @0x00007f8b3f408c7f, Ptr{Nothing} @0x00007f8b3f49b5cc, Ptr{Nothing} @0x00007f8b3f49bb35, Ptr{Nothing} @0x00007f8b3f49b80e, Ptr{Nothing} @0x00007f8b3f49c451, Ptr{Nothing} @0x00007f8b3f49ced7, Base.InterpreterIP in top-level CodeInfo for Plots._hdf5_implementation at statement 4, Ptr{Nothing} @0x00007f8b3f4b87b1, Ptr{Nothing} @0x00007f8b3f4b8ee3, Ptr{Nothing} @0x00007f8b3f4b89fc, Ptr{Nothing} @0x00007f8b3f4b89fc, Ptr{Nothing} @0x00007f8b3f4ba5c9, Ptr{Nothing} @0x00007f8b2485c307, Ptr{Nothing} @0x00007f8b3f47f2b9, Ptr{Nothing} @0x00007f8b24763582, Ptr{Nothing} @0x00007f8b244cd695, Ptr{Nothing} @0x00007f8b3f47f2b9, Ptr{Nothing} @0x00007f8b3f490096, Ptr{Nothing} @0x00007f8b1dbbc38e, Ptr{Nothing} @0x00007f8b3f47f2b9, Ptr{Nothing} @0x00007f8b3f49bb55, Ptr{Nothing} @0x00007f8b3f49b80e, Ptr{Nothing} @0x00007f8b3f49c451, Ptr{Nothing} @0x00007f8b3f49ced7, Base.InterpreterIP in top-level CodeInfo for Plots at statement 10, Ptr{Nothing} @0x00007f8b3f4b87b1, Ptr{Nothing} @0x00007f8b3f4ba5c9, Ptr{Nothing} @0x00007f8b1dbbc2d9, Ptr{Nothing} @0x00007f8b1dbbc30d, Ptr{Nothing} @0x00007f8b3f47f2b9, Ptr{Nothing} @0x00007f8b3f49bb55, Ptr{Nothing} @0x00007f8b3f49b80e, Ptr{Nothing} @0x00007f8b3f49c4e5, Ptr{Nothing} @0x00007f8b3f49c7d0, Ptr{Nothing} @0x00007f8b3f49cc8a, Base.InterpreterIP in MethodInstance for err(::Any, ::Module, ::String, ::String, ::Any) at statement 8, Ptr{Nothing} @0x00007f8b1dbbc225, Ptr{Nothing} @0x00007f8b1dbbc24d, Ptr{Nothing} @0x00007f8b3f47f2b9, Ptr{Nothing} @0x00007f8b3f49bb55, Ptr{Nothing} @0x00007f8b3f49b80e, Ptr{Nothing} @0x00007f8b3f49c4e5, Ptr{Nothing} @0x00007f8b3f49c7d0, Ptr{Nothing} @0x00007f8b3f49cc8a, Base.InterpreterIP in MethodInstance for withpath(::Any, ::String) at statement 10, Ptr{Nothing} @0x00007f8b1dbbc0c7, Ptr{Nothing} @0x00007f8b1dbbc19d, Ptr{Nothing} @0x00007f8b3f47f2b9, Ptr{Nothing} @0x00007f8b3f49bb55, Ptr{Nothing} @0x00007f8b3f49b80e, Ptr{Nothing} @0x00007f8b3f49c451, Ptr{Nothing} @0x00007f8b3f49cc8a, Base.InterpreterIP in MethodInstance for listenpkg(::Any, ::Base.PkgId) at statement 3, Ptr{Nothing} @0x00007f8b1dbb887f, Ptr{Nothing} @0x00007f8b1dbb98dd, Ptr{Nothing} @0x00007f8b3f47f2b9, Ptr{Nothing} @0x00007f8b3f4b8135, Ptr{Nothing} @0x00007f8b3f4addfc, Ptr{Nothing} @0x00007f8b1db59109, Ptr{Nothing} @0x00007f8b1db5a42f, Ptr{Nothing} @0x00007f8b1db5c6a0, Ptr{Nothing} @0x00007f8b1db5ea1d, Ptr{Nothing} @0x00007f8b1db5f77c, Ptr{Nothing} @0x00007f8b3f47f2b9, Ptr{Nothing} @0x00007f8b3f4b7951, Ptr{Nothing} @0x00007f8b3f4b9a17, Ptr{Nothing} @0x00007f8b3f4b89fc, Ptr{Nothing} @0x00007f8b3f4ba5c9, Ptr{Nothing} @0x00007f8b1db8b36c, Ptr{Nothing} @0x00007f8b1db8b709, Ptr{Nothing} @0x00007f8b3f47f2b9, Ptr{Nothing} @0x00007f8b1db88263, Ptr{Nothing} @0x00007f8b3f47f2b9, Ptr{Nothing} @0x00007f8b3f490096, Ptr{Nothing} @0x00007f8b1db8207e, Ptr{Nothing} @0x00007f8b1db822ae, Ptr{Nothing} @0x00007f8b1db822cc, Ptr{Nothing} @0x00007f8b3f47f2b9, Ptr{Nothing} @0x00007f8b3f4a08fa])\n",
      "└ @ Requires /home/jupyter_share/.julia/packages/Requires/Z8rfN/src/require.jl:51\n"
     ]
    },
    {
     "data": {
      "text/plain": [
       "CorrData with 203 Corrs\n",
       "      NAME: \"OO.HYS14..BHZ.OO.HYS14..BHN\"      \n",
       "        ID: \"2015-01-01\"                       \n",
       "       LOC: 0.0 N, 0.0 E, 0.0 m\n",
       "      COMP: \"ZN\"                               \n",
       "   ROTATED: false                              \n",
       " CORR_TYPE: \"CC\"                               \n",
       "        FS: 40.0\n",
       "      GAIN: 1.0\n",
       "   FREQMIN: 0.01\n",
       "   FREQMAX: 16.0\n",
       "    CC_LEN: 1800.0\n",
       "   CC_STEP: 450.0\n",
       "  WHITENED: true                               \n",
       " TIME_NORM: \"\"                                 \n",
       "      RESP: a0 1.0, f0 1.0, 0z, 0p\n",
       "      MISC: 0 entries                          \n",
       "     NOTES: 7 entries                          \n",
       "      DIST: 0.0\n",
       "       AZI: 0.0\n",
       "       BAZ: 0.0\n",
       "    MAXLAG: 60.0\n",
       "         T: 2014-12-28T00:00:00                …\n",
       "      CORR: 4801×203 Matrix{Float32}           \n"
      ]
     },
     "execution_count": 1,
     "metadata": {},
     "output_type": "execute_result"
    }
   ],
   "source": [
    "using SeisNoise, SeisIO, Plots\n",
    "using Dates \n",
    "d=load_corr(\"/data/wsd01/corrdata/200lag/OO.HYS14..BHZ.OO.HYSB1..BHZ.jld2\",\"ZZ\")\n",
    "dailystk=stack(d,interval=Day(10))\n",
    "allstk=stack(d,allstack=true)\n",
    "allstk1 = deepcopy(allstk)\n",
    "allstk2 = deepcopy(allstk)\n",
    "allstk3 = deepcopy(allstk)\n",
    "dailystk1 = deepcopy(dailystk)\n",
    "dailystk2 = deepcopy(dailystk)\n",
    "dailystk3 = deepcopy(dailystk)"
   ]
  },
  {
   "cell_type": "code",
   "execution_count": null,
   "id": "25c30180",
   "metadata": {},
   "outputs": [],
   "source": [
    "plot(allstk)\n",
    "#plot!(size=(1000,1000))\n",
    "#savefig(\"HYS14_HYS14_raw_allstack.pdf\")"
   ]
  },
  {
   "cell_type": "code",
   "execution_count": null,
   "id": "4ed76d19",
   "metadata": {},
   "outputs": [],
   "source": [
    "clean_up!(allstk1,0.1,0.2)\n",
    "abs_max!(allstk1)\n",
    "AS1=[allstk1.corr]\n",
    "plot(allstk1)\n",
    "#plot!(size=(1000,1000))\n",
    "#savefig(\"HYS14_HYS14_0.1_0.2_allstack.pdf\")"
   ]
  },
  {
   "cell_type": "code",
   "execution_count": null,
   "id": "a9555107",
   "metadata": {},
   "outputs": [],
   "source": [
    "clean_up!(allstk2,0.2,1)\n",
    "abs_max!(allstk2)\n",
    "AS2=allstk2.corr\n",
    "plot(allstk2)\n",
    "#plot!(size=(1000,1000))\n",
    "#savefig(\"HYS14_HYS14_0.2_0.1_allstack.pdf\")"
   ]
  },
  {
   "cell_type": "code",
   "execution_count": null,
   "id": "ab5b31a0",
   "metadata": {},
   "outputs": [],
   "source": [
    "clean_up!(allstk3,1.0,5.0)\n",
    "abs_max!(allstk3)\n",
    "AS3=allstk3.corr\n",
    "plot(allstk3)\n",
    "#plot!(size=(1000,1000))\n",
    "#savefig(\"HYS14_HYS14_1_5.pdf\")"
   ]
  },
  {
   "cell_type": "code",
   "execution_count": null,
   "id": "8d2604f8",
   "metadata": {},
   "outputs": [],
   "source": [
    "plot(AS1, label = \"0.1-0.2\")\n",
    "plot!(AS2, label = \"0.2-0.5\")\n",
    "plot!(AS3, label = \"0.5-1.0\")\n",
    "#plot!(size=(1000,1000))\n",
    "#savefig(\"HYS14_HYS14_all stack filtered waveforms.pdf\")"
   ]
  },
  {
   "cell_type": "code",
   "execution_count": null,
   "id": "64a8363d",
   "metadata": {},
   "outputs": [],
   "source": [
    "clean_up!(dailystk1,0.1,0.2)\n",
    "abs_max!(dailystk1)\n",
    "DS1=dailystk1\n",
    "plot(dailystk1)\n",
    "#plot!(size=(1000,1000))\n",
    "#savefig(\"HYS14_HYS14_0.1_0.2_daily.pdf\")"
   ]
  },
  {
   "cell_type": "code",
   "execution_count": null,
   "id": "92172e27",
   "metadata": {},
   "outputs": [],
   "source": [
    "clean_up!(dailystk2,0.2,1.0)\n",
    "abs_max!(dailystk2)\n",
    "DS2=dailystk2\n",
    "plot(dailystk2)\n",
    "#plot!(size=(1000,1000))\n",
    "#savefig(\"HYS14_HYS14_0.2_0.1_daily.pdf\")"
   ]
  },
  {
   "cell_type": "code",
   "execution_count": null,
   "id": "f96758da",
   "metadata": {},
   "outputs": [],
   "source": [
    "clean_up!(dailystk3,1.0,5.0)\n",
    "abs_max!(dailystk3)\n",
    "DS3=dailystk3\n",
    "plot(dailystk3)#xlim=[2,6],legend=true)\n",
    "#plot!(size=(1000,1000))\n",
    "#savefig(\"HYS14_HYS14_1_5_daily.pdf\")"
   ]
  },
  {
   "cell_type": "code",
   "execution_count": null,
   "id": "a187e758",
   "metadata": {},
   "outputs": [],
   "source": [
    "plot(dailystk3, xlim=[2,6])"
   ]
  },
  {
   "cell_type": "code",
   "execution_count": null,
   "id": "256ace8f",
   "metadata": {},
   "outputs": [],
   "source": [
    "using Statistics\n",
    "\n",
    "lag_start = 2\n",
    "lag_end = 6\n",
    "c1=Vector()\n",
    "for i =1:1975\n",
    "    insert!(c1,i,cor(AS3[:][(Int(floor(lag_start*40))+2401):(Int(floor(lag_end*40))+2401)],DS3.corr[:,i][(Int(floor(lag_start*40))+2401):(Int(floor(lag_end*40))+2401)]))\n",
    "end\n"
   ]
  },
  {
   "cell_type": "code",
   "execution_count": null,
   "id": "27dac051",
   "metadata": {},
   "outputs": [],
   "source": [
    "using Statistics\n",
    "\n",
    "lag_start = 11\n",
    "lag_end = 16\n",
    "c2=Vector()\n",
    "for i =1:1975\n",
    "    insert!(c2,i,cor(AS2[:][(Int(floor(lag_start*40))+2401):(Int(floor(lag_end*40))+2401)],DS2.corr[:,i][(Int(floor(lag_start*40))+2401):(Int(floor(lag_end*40))+2401)]))\n",
    "end"
   ]
  },
  {
   "cell_type": "code",
   "execution_count": null,
   "id": "1232af0b",
   "metadata": {},
   "outputs": [],
   "source": [
    "r=map(unix2datetime,dailystk.t)\n",
    "plot(r, c1, label=\"cc: 2 to 6\", legend=:bottomleft)\n",
    "\n",
    "#plot!(c2, label=\"11 to 16\", legend=:bottomleft)"
   ]
  },
  {
   "cell_type": "code",
   "execution_count": null,
   "id": "d908696c",
   "metadata": {},
   "outputs": [],
   "source": [
    "lag_start = -60\n",
    "lag_end = -40\n",
    "c2=Vector()\n",
    "for i =1:1975\n",
    "    insert!(c2,i,cor(AS2[:][(Int(floor(lag_start*40))+2401):(Int(floor(lag_end*40))+2401)],DS2.corr[:,i][(Int(floor(lag_start*40))+2401):(Int(floor(lag_end*40))+2401)]))\n",
    "end\n"
   ]
  },
  {
   "cell_type": "code",
   "execution_count": null,
   "id": "57053c85",
   "metadata": {},
   "outputs": [],
   "source": [
    "lag_start = -60\n",
    "lag_end = -40\n",
    "c3=Vector()\n",
    "for i =1:1975\n",
    "    insert!(c3,i,cor(AS1[1][(Int(floor(lag_start*40))+2401):(Int(floor(lag_end*40))+2401)],DS3.corr[:,i][(Int(floor(lag_start*40))+2401):(Int(floor(lag_end*40))+2401)]))\n",
    "end\n"
   ]
  },
  {
   "cell_type": "code",
   "execution_count": null,
   "id": "09eb140b",
   "metadata": {},
   "outputs": [],
   "source": [
    "plot(c1)\n",
    "plot!(c2)\n",
    "plot!(c3)"
   ]
  },
  {
   "cell_type": "code",
   "execution_count": 2,
   "id": "a2bd4489",
   "metadata": {},
   "outputs": [
    {
     "data": {
      "text/plain": [
       "evenly_spaced (generic function with 1 method)"
      ]
     },
     "execution_count": 2,
     "metadata": {},
     "output_type": "execute_result"
    }
   ],
   "source": [
    "    function evenly_spaced(a, b, n)\n",
    "        h = (b-a)/(n-1)\n",
    "        collect(a:h:b)\n",
    "    end"
   ]
  },
  {
   "cell_type": "code",
   "execution_count": 3,
   "id": "fad74717",
   "metadata": {},
   "outputs": [],
   "source": [
    "using SeisDvv\n",
    "fs=40.0 # sample frequency\n",
    "j=length(dailystk.corr[1,:])\n",
    "dvt=zeros(j)\n",
    "cct=zeros(j)\n",
    "tmin = 5.0\n",
    "tmax = 35.0\n",
    "fmin = 0.1\n",
    "fmax = 0.2\n",
    "window = collect(range(Int(floor(tmin*fs))+2401,Int(floor(tmax*fs))+2401,step=1))\n",
    "time=evenly_spaced(-60,60,length(allstk.corr[:]))\n",
    "clean_up!(allstk,fmin,fmax)\n",
    "clean_up!(dailystk,fmin,fmax)\n",
    "abs_max!(allstk)\n",
    "abs_max!(dailystk)\n",
    "\n",
    "for i in 1:j\n",
    "    S1=Array(allstk.corr[:])\n",
    "    S2=Array(dailystk.corr[:,i]) \n",
    "    \n",
    "    dvv_ts, cc_ts, cdp_Ts, eps_ts, err_ts, allC_ts = SeisDvv.stretching(S1, S2, time, window, fmin, fmax,ntrial=100);\n",
    "    dvt[i]=dvv_ts\n",
    "    cct[i]=cc_ts\n",
    "    \n",
    "end"
   ]
  },
  {
   "cell_type": "code",
   "execution_count": 4,
   "id": "6a9fd4f4",
   "metadata": {},
   "outputs": [
    {
     "data": {
      "image/svg+xml": [
       "<?xml version=\"1.0\" encoding=\"utf-8\"?>\n",
       "<svg xmlns=\"http://www.w3.org/2000/svg\" xmlns:xlink=\"http://www.w3.org/1999/xlink\" width=\"600\" height=\"400\" viewBox=\"0 0 2400 1600\">\n",
       "<defs>\n",
       "  <clipPath id=\"clip020\">\n",
       "    <rect x=\"0\" y=\"0\" width=\"2400\" height=\"1600\"/>\n",
       "  </clipPath>\n",
       "</defs>\n",
       "<path clip-path=\"url(#clip020)\" d=\"\n",
       "M0 1600 L2400 1600 L2400 0 L0 0  Z\n",
       "  \" fill=\"#ffffff\" fill-rule=\"evenodd\" fill-opacity=\"1\"/>\n",
       "<defs>\n",
       "  <clipPath id=\"clip021\">\n",
       "    <rect x=\"480\" y=\"0\" width=\"1681\" height=\"1600\"/>\n",
       "  </clipPath>\n",
       "</defs>\n",
       "<path clip-path=\"url(#clip020)\" d=\"\n",
       "M147.478 1486.45 L2352.76 1486.45 L2352.76 47.2441 L147.478 47.2441  Z\n",
       "  \" fill=\"#ffffff\" fill-rule=\"evenodd\" fill-opacity=\"1\"/>\n",
       "<defs>\n",
       "  <clipPath id=\"clip022\">\n",
       "    <rect x=\"147\" y=\"47\" width=\"2206\" height=\"1440\"/>\n",
       "  </clipPath>\n",
       "</defs>\n",
       "<polyline clip-path=\"url(#clip022)\" style=\"stroke:#000000; stroke-linecap:butt; stroke-linejoin:round; stroke-width:2; stroke-opacity:0.1; fill:none\" points=\"\n",
       "  213.931,1486.45 213.931,47.2441 \n",
       "  \"/>\n",
       "<polyline clip-path=\"url(#clip022)\" style=\"stroke:#000000; stroke-linecap:butt; stroke-linejoin:round; stroke-width:2; stroke-opacity:0.1; fill:none\" points=\"\n",
       "  582.555,1486.45 582.555,47.2441 \n",
       "  \"/>\n",
       "<polyline clip-path=\"url(#clip022)\" style=\"stroke:#000000; stroke-linecap:butt; stroke-linejoin:round; stroke-width:2; stroke-opacity:0.1; fill:none\" points=\"\n",
       "  952.188,1486.45 952.188,47.2441 \n",
       "  \"/>\n",
       "<polyline clip-path=\"url(#clip022)\" style=\"stroke:#000000; stroke-linecap:butt; stroke-linejoin:round; stroke-width:2; stroke-opacity:0.1; fill:none\" points=\"\n",
       "  1320.81,1486.45 1320.81,47.2441 \n",
       "  \"/>\n",
       "<polyline clip-path=\"url(#clip022)\" style=\"stroke:#000000; stroke-linecap:butt; stroke-linejoin:round; stroke-width:2; stroke-opacity:0.1; fill:none\" points=\"\n",
       "  1689.44,1486.45 1689.44,47.2441 \n",
       "  \"/>\n",
       "<polyline clip-path=\"url(#clip022)\" style=\"stroke:#000000; stroke-linecap:butt; stroke-linejoin:round; stroke-width:2; stroke-opacity:0.1; fill:none\" points=\"\n",
       "  2058.06,1486.45 2058.06,47.2441 \n",
       "  \"/>\n",
       "<polyline clip-path=\"url(#clip020)\" style=\"stroke:#000000; stroke-linecap:butt; stroke-linejoin:round; stroke-width:4; stroke-opacity:1; fill:none\" points=\"\n",
       "  147.478,1486.45 2352.76,1486.45 \n",
       "  \"/>\n",
       "<polyline clip-path=\"url(#clip020)\" style=\"stroke:#000000; stroke-linecap:butt; stroke-linejoin:round; stroke-width:4; stroke-opacity:1; fill:none\" points=\"\n",
       "  213.931,1486.45 213.931,1467.55 \n",
       "  \"/>\n",
       "<polyline clip-path=\"url(#clip020)\" style=\"stroke:#000000; stroke-linecap:butt; stroke-linejoin:round; stroke-width:4; stroke-opacity:1; fill:none\" points=\"\n",
       "  582.555,1486.45 582.555,1467.55 \n",
       "  \"/>\n",
       "<polyline clip-path=\"url(#clip020)\" style=\"stroke:#000000; stroke-linecap:butt; stroke-linejoin:round; stroke-width:4; stroke-opacity:1; fill:none\" points=\"\n",
       "  952.188,1486.45 952.188,1467.55 \n",
       "  \"/>\n",
       "<polyline clip-path=\"url(#clip020)\" style=\"stroke:#000000; stroke-linecap:butt; stroke-linejoin:round; stroke-width:4; stroke-opacity:1; fill:none\" points=\"\n",
       "  1320.81,1486.45 1320.81,1467.55 \n",
       "  \"/>\n",
       "<polyline clip-path=\"url(#clip020)\" style=\"stroke:#000000; stroke-linecap:butt; stroke-linejoin:round; stroke-width:4; stroke-opacity:1; fill:none\" points=\"\n",
       "  1689.44,1486.45 1689.44,1467.55 \n",
       "  \"/>\n",
       "<polyline clip-path=\"url(#clip020)\" style=\"stroke:#000000; stroke-linecap:butt; stroke-linejoin:round; stroke-width:4; stroke-opacity:1; fill:none\" points=\"\n",
       "  2058.06,1486.45 2058.06,1467.55 \n",
       "  \"/>\n",
       "<path clip-path=\"url(#clip020)\" d=\"M85.7258 1544.91 L102.045 1544.91 L102.045 1548.85 L80.1009 1548.85 L80.1009 1544.91 Q82.7629 1542.16 87.3462 1537.53 Q91.9526 1532.88 93.1332 1531.53 Q95.3785 1529.01 96.2582 1527.27 Q97.1609 1525.51 97.1609 1523.82 Q97.1609 1521.07 95.2165 1519.33 Q93.2952 1517.6 90.1934 1517.6 Q87.9943 1517.6 85.5406 1518.36 Q83.1101 1519.13 80.3323 1520.68 L80.3323 1515.95 Q83.1564 1514.82 85.6101 1514.24 Q88.0638 1513.66 90.1008 1513.66 Q95.4711 1513.66 98.6656 1516.35 Q101.86 1519.03 101.86 1523.52 Q101.86 1525.65 101.05 1527.57 Q100.263 1529.47 98.1563 1532.07 Q97.5776 1532.74 94.4758 1535.95 Q91.3739 1539.15 85.7258 1544.91 Z\" fill=\"#000000\" fill-rule=\"evenodd\" fill-opacity=\"1\" /><path clip-path=\"url(#clip020)\" d=\"M121.86 1517.37 Q118.249 1517.37 116.42 1520.93 Q114.615 1524.47 114.615 1531.6 Q114.615 1538.71 116.42 1542.27 Q118.249 1545.82 121.86 1545.82 Q125.494 1545.82 127.3 1542.27 Q129.128 1538.71 129.128 1531.6 Q129.128 1524.47 127.3 1520.93 Q125.494 1517.37 121.86 1517.37 M121.86 1513.66 Q127.67 1513.66 130.726 1518.27 Q133.804 1522.85 133.804 1531.6 Q133.804 1540.33 130.726 1544.94 Q127.67 1549.52 121.86 1549.52 Q116.05 1549.52 112.971 1544.94 Q109.916 1540.33 109.916 1531.6 Q109.916 1522.85 112.971 1518.27 Q116.05 1513.66 121.86 1513.66 Z\" fill=\"#000000\" fill-rule=\"evenodd\" fill-opacity=\"1\" /><path clip-path=\"url(#clip020)\" d=\"M142.832 1544.91 L150.471 1544.91 L150.471 1518.55 L142.161 1520.21 L142.161 1515.95 L150.425 1514.29 L155.1 1514.29 L155.1 1544.91 L162.739 1544.91 L162.739 1548.85 L142.832 1548.85 L142.832 1544.91 Z\" fill=\"#000000\" fill-rule=\"evenodd\" fill-opacity=\"1\" /><path clip-path=\"url(#clip020)\" d=\"M172.23 1514.29 L190.586 1514.29 L190.586 1518.22 L176.512 1518.22 L176.512 1526.7 Q177.531 1526.35 178.549 1526.19 Q179.568 1526 180.586 1526 Q186.373 1526 189.753 1529.17 Q193.133 1532.34 193.133 1537.76 Q193.133 1543.34 189.66 1546.44 Q186.188 1549.52 179.869 1549.52 Q177.693 1549.52 175.424 1549.15 Q173.179 1548.78 170.772 1548.04 L170.772 1543.34 Q172.855 1544.47 175.077 1545.03 Q177.299 1545.58 179.776 1545.58 Q183.781 1545.58 186.119 1543.48 Q188.457 1541.37 188.457 1537.76 Q188.457 1534.15 186.119 1532.04 Q183.781 1529.94 179.776 1529.94 Q177.901 1529.94 176.026 1530.35 Q174.174 1530.77 172.23 1531.65 L172.23 1514.29 Z\" fill=\"#000000\" fill-rule=\"evenodd\" fill-opacity=\"1\" /><path clip-path=\"url(#clip020)\" d=\"M199.591 1533.96 L212.068 1533.96 L212.068 1537.76 L199.591 1537.76 L199.591 1533.96 Z\" fill=\"#000000\" fill-rule=\"evenodd\" fill-opacity=\"1\" /><path clip-path=\"url(#clip020)\" d=\"M229.452 1517.37 Q225.841 1517.37 224.012 1520.93 Q222.207 1524.47 222.207 1531.6 Q222.207 1538.71 224.012 1542.27 Q225.841 1545.82 229.452 1545.82 Q233.086 1545.82 234.892 1542.27 Q236.72 1538.71 236.72 1531.6 Q236.72 1524.47 234.892 1520.93 Q233.086 1517.37 229.452 1517.37 M229.452 1513.66 Q235.262 1513.66 238.318 1518.27 Q241.396 1522.85 241.396 1531.6 Q241.396 1540.33 238.318 1544.94 Q235.262 1549.52 229.452 1549.52 Q223.642 1549.52 220.563 1544.94 Q217.508 1540.33 217.508 1531.6 Q217.508 1522.85 220.563 1518.27 Q223.642 1513.66 229.452 1513.66 Z\" fill=\"#000000\" fill-rule=\"evenodd\" fill-opacity=\"1\" /><path clip-path=\"url(#clip020)\" d=\"M250.424 1544.91 L258.063 1544.91 L258.063 1518.55 L249.753 1520.21 L249.753 1515.95 L258.017 1514.29 L262.692 1514.29 L262.692 1544.91 L270.331 1544.91 L270.331 1548.85 L250.424 1548.85 L250.424 1544.91 Z\" fill=\"#000000\" fill-rule=\"evenodd\" fill-opacity=\"1\" /><path clip-path=\"url(#clip020)\" d=\"M277.021 1533.96 L289.498 1533.96 L289.498 1537.76 L277.021 1537.76 L277.021 1533.96 Z\" fill=\"#000000\" fill-rule=\"evenodd\" fill-opacity=\"1\" /><path clip-path=\"url(#clip020)\" d=\"M306.882 1517.37 Q303.271 1517.37 301.442 1520.93 Q299.637 1524.47 299.637 1531.6 Q299.637 1538.71 301.442 1542.27 Q303.271 1545.82 306.882 1545.82 Q310.516 1545.82 312.322 1542.27 Q314.151 1538.71 314.151 1531.6 Q314.151 1524.47 312.322 1520.93 Q310.516 1517.37 306.882 1517.37 M306.882 1513.66 Q312.692 1513.66 315.748 1518.27 Q318.826 1522.85 318.826 1531.6 Q318.826 1540.33 315.748 1544.94 Q312.692 1549.52 306.882 1549.52 Q301.072 1549.52 297.993 1544.94 Q294.938 1540.33 294.938 1531.6 Q294.938 1522.85 297.993 1518.27 Q301.072 1513.66 306.882 1513.66 Z\" fill=\"#000000\" fill-rule=\"evenodd\" fill-opacity=\"1\" /><path clip-path=\"url(#clip020)\" d=\"M327.854 1544.91 L335.493 1544.91 L335.493 1518.55 L327.183 1520.21 L327.183 1515.95 L335.447 1514.29 L340.123 1514.29 L340.123 1544.91 L347.761 1544.91 L347.761 1548.85 L327.854 1548.85 L327.854 1544.91 Z\" fill=\"#000000\" fill-rule=\"evenodd\" fill-opacity=\"1\" /><path clip-path=\"url(#clip020)\" d=\"M454.349 1544.91 L470.669 1544.91 L470.669 1548.85 L448.724 1548.85 L448.724 1544.91 Q451.386 1542.16 455.97 1537.53 Q460.576 1532.88 461.757 1531.53 Q464.002 1529.01 464.882 1527.27 Q465.785 1525.51 465.785 1523.82 Q465.785 1521.07 463.84 1519.33 Q461.919 1517.6 458.817 1517.6 Q456.618 1517.6 454.164 1518.36 Q451.734 1519.13 448.956 1520.68 L448.956 1515.95 Q451.78 1514.82 454.234 1514.24 Q456.687 1513.66 458.724 1513.66 Q464.095 1513.66 467.289 1516.35 Q470.484 1519.03 470.484 1523.52 Q470.484 1525.65 469.673 1527.57 Q468.886 1529.47 466.78 1532.07 Q466.201 1532.74 463.099 1535.95 Q459.998 1539.15 454.349 1544.91 Z\" fill=\"#000000\" fill-rule=\"evenodd\" fill-opacity=\"1\" /><path clip-path=\"url(#clip020)\" d=\"M490.483 1517.37 Q486.872 1517.37 485.044 1520.93 Q483.238 1524.47 483.238 1531.6 Q483.238 1538.71 485.044 1542.27 Q486.872 1545.82 490.483 1545.82 Q494.118 1545.82 495.923 1542.27 Q497.752 1538.71 497.752 1531.6 Q497.752 1524.47 495.923 1520.93 Q494.118 1517.37 490.483 1517.37 M490.483 1513.66 Q496.294 1513.66 499.349 1518.27 Q502.428 1522.85 502.428 1531.6 Q502.428 1540.33 499.349 1544.94 Q496.294 1549.52 490.483 1549.52 Q484.673 1549.52 481.595 1544.94 Q478.539 1540.33 478.539 1531.6 Q478.539 1522.85 481.595 1518.27 Q484.673 1513.66 490.483 1513.66 Z\" fill=\"#000000\" fill-rule=\"evenodd\" fill-opacity=\"1\" /><path clip-path=\"url(#clip020)\" d=\"M511.456 1544.91 L519.094 1544.91 L519.094 1518.55 L510.784 1520.21 L510.784 1515.95 L519.048 1514.29 L523.724 1514.29 L523.724 1544.91 L531.363 1544.91 L531.363 1548.85 L511.456 1548.85 L511.456 1544.91 Z\" fill=\"#000000\" fill-rule=\"evenodd\" fill-opacity=\"1\" /><path clip-path=\"url(#clip020)\" d=\"M551.386 1529.7 Q548.238 1529.7 546.386 1531.86 Q544.557 1534.01 544.557 1537.76 Q544.557 1541.49 546.386 1543.66 Q548.238 1545.82 551.386 1545.82 Q554.534 1545.82 556.363 1543.66 Q558.215 1541.49 558.215 1537.76 Q558.215 1534.01 556.363 1531.86 Q554.534 1529.7 551.386 1529.7 M560.668 1515.05 L560.668 1519.31 Q558.909 1518.48 557.103 1518.04 Q555.321 1517.6 553.562 1517.6 Q548.932 1517.6 546.479 1520.72 Q544.048 1523.85 543.701 1530.17 Q545.067 1528.15 547.127 1527.09 Q549.187 1526 551.664 1526 Q556.872 1526 559.881 1529.17 Q562.914 1532.32 562.914 1537.76 Q562.914 1543.08 559.766 1546.3 Q556.617 1549.52 551.386 1549.52 Q545.391 1549.52 542.219 1544.94 Q539.048 1540.33 539.048 1531.6 Q539.048 1523.41 542.937 1518.55 Q546.826 1513.66 553.377 1513.66 Q555.136 1513.66 556.918 1514.01 Q558.724 1514.36 560.668 1515.05 Z\" fill=\"#000000\" fill-rule=\"evenodd\" fill-opacity=\"1\" /><path clip-path=\"url(#clip020)\" d=\"M568.215 1533.96 L580.691 1533.96 L580.691 1537.76 L568.215 1537.76 L568.215 1533.96 Z\" fill=\"#000000\" fill-rule=\"evenodd\" fill-opacity=\"1\" /><path clip-path=\"url(#clip020)\" d=\"M598.075 1517.37 Q594.464 1517.37 592.636 1520.93 Q590.83 1524.47 590.83 1531.6 Q590.83 1538.71 592.636 1542.27 Q594.464 1545.82 598.075 1545.82 Q601.71 1545.82 603.515 1542.27 Q605.344 1538.71 605.344 1531.6 Q605.344 1524.47 603.515 1520.93 Q601.71 1517.37 598.075 1517.37 M598.075 1513.66 Q603.886 1513.66 606.941 1518.27 Q610.02 1522.85 610.02 1531.6 Q610.02 1540.33 606.941 1544.94 Q603.886 1549.52 598.075 1549.52 Q592.265 1549.52 589.187 1544.94 Q586.131 1540.33 586.131 1531.6 Q586.131 1522.85 589.187 1518.27 Q592.265 1513.66 598.075 1513.66 Z\" fill=\"#000000\" fill-rule=\"evenodd\" fill-opacity=\"1\" /><path clip-path=\"url(#clip020)\" d=\"M619.048 1544.91 L626.686 1544.91 L626.686 1518.55 L618.376 1520.21 L618.376 1515.95 L626.64 1514.29 L631.316 1514.29 L631.316 1544.91 L638.955 1544.91 L638.955 1548.85 L619.048 1548.85 L619.048 1544.91 Z\" fill=\"#000000\" fill-rule=\"evenodd\" fill-opacity=\"1\" /><path clip-path=\"url(#clip020)\" d=\"M645.645 1533.96 L658.121 1533.96 L658.121 1537.76 L645.645 1537.76 L645.645 1533.96 Z\" fill=\"#000000\" fill-rule=\"evenodd\" fill-opacity=\"1\" /><path clip-path=\"url(#clip020)\" d=\"M675.506 1517.37 Q671.895 1517.37 670.066 1520.93 Q668.26 1524.47 668.26 1531.6 Q668.26 1538.71 670.066 1542.27 Q671.895 1545.82 675.506 1545.82 Q679.14 1545.82 680.945 1542.27 Q682.774 1538.71 682.774 1531.6 Q682.774 1524.47 680.945 1520.93 Q679.14 1517.37 675.506 1517.37 M675.506 1513.66 Q681.316 1513.66 684.371 1518.27 Q687.45 1522.85 687.45 1531.6 Q687.45 1540.33 684.371 1544.94 Q681.316 1549.52 675.506 1549.52 Q669.695 1549.52 666.617 1544.94 Q663.561 1540.33 663.561 1531.6 Q663.561 1522.85 666.617 1518.27 Q669.695 1513.66 675.506 1513.66 Z\" fill=\"#000000\" fill-rule=\"evenodd\" fill-opacity=\"1\" /><path clip-path=\"url(#clip020)\" d=\"M696.478 1544.91 L704.117 1544.91 L704.117 1518.55 L695.806 1520.21 L695.806 1515.95 L704.07 1514.29 L708.746 1514.29 L708.746 1544.91 L716.385 1544.91 L716.385 1548.85 L696.478 1548.85 L696.478 1544.91 Z\" fill=\"#000000\" fill-rule=\"evenodd\" fill-opacity=\"1\" /><path clip-path=\"url(#clip020)\" d=\"M823.983 1544.91 L840.302 1544.91 L840.302 1548.85 L818.358 1548.85 L818.358 1544.91 Q821.02 1542.16 825.603 1537.53 Q830.21 1532.88 831.39 1531.53 Q833.636 1529.01 834.515 1527.27 Q835.418 1525.51 835.418 1523.82 Q835.418 1521.07 833.474 1519.33 Q831.552 1517.6 828.45 1517.6 Q826.251 1517.6 823.798 1518.36 Q821.367 1519.13 818.589 1520.68 L818.589 1515.95 Q821.413 1514.82 823.867 1514.24 Q826.321 1513.66 828.358 1513.66 Q833.728 1513.66 836.923 1516.35 Q840.117 1519.03 840.117 1523.52 Q840.117 1525.65 839.307 1527.57 Q838.52 1529.47 836.413 1532.07 Q835.835 1532.74 832.733 1535.95 Q829.631 1539.15 823.983 1544.91 Z\" fill=\"#000000\" fill-rule=\"evenodd\" fill-opacity=\"1\" /><path clip-path=\"url(#clip020)\" d=\"M860.117 1517.37 Q856.506 1517.37 854.677 1520.93 Q852.872 1524.47 852.872 1531.6 Q852.872 1538.71 854.677 1542.27 Q856.506 1545.82 860.117 1545.82 Q863.751 1545.82 865.557 1542.27 Q867.385 1538.71 867.385 1531.6 Q867.385 1524.47 865.557 1520.93 Q863.751 1517.37 860.117 1517.37 M860.117 1513.66 Q865.927 1513.66 868.983 1518.27 Q872.061 1522.85 872.061 1531.6 Q872.061 1540.33 868.983 1544.94 Q865.927 1549.52 860.117 1549.52 Q854.307 1549.52 851.228 1544.94 Q848.173 1540.33 848.173 1531.6 Q848.173 1522.85 851.228 1518.27 Q854.307 1513.66 860.117 1513.66 Z\" fill=\"#000000\" fill-rule=\"evenodd\" fill-opacity=\"1\" /><path clip-path=\"url(#clip020)\" d=\"M881.089 1544.91 L888.728 1544.91 L888.728 1518.55 L880.418 1520.21 L880.418 1515.95 L888.682 1514.29 L893.358 1514.29 L893.358 1544.91 L900.996 1544.91 L900.996 1548.85 L881.089 1548.85 L881.089 1544.91 Z\" fill=\"#000000\" fill-rule=\"evenodd\" fill-opacity=\"1\" /><path clip-path=\"url(#clip020)\" d=\"M909.26 1514.29 L931.482 1514.29 L931.482 1516.28 L918.936 1548.85 L914.052 1548.85 L925.857 1518.22 L909.26 1518.22 L909.26 1514.29 Z\" fill=\"#000000\" fill-rule=\"evenodd\" fill-opacity=\"1\" /><path clip-path=\"url(#clip020)\" d=\"M937.848 1533.96 L950.325 1533.96 L950.325 1537.76 L937.848 1537.76 L937.848 1533.96 Z\" fill=\"#000000\" fill-rule=\"evenodd\" fill-opacity=\"1\" /><path clip-path=\"url(#clip020)\" d=\"M967.709 1517.37 Q964.098 1517.37 962.269 1520.93 Q960.464 1524.47 960.464 1531.6 Q960.464 1538.71 962.269 1542.27 Q964.098 1545.82 967.709 1545.82 Q971.343 1545.82 973.149 1542.27 Q974.977 1538.71 974.977 1531.6 Q974.977 1524.47 973.149 1520.93 Q971.343 1517.37 967.709 1517.37 M967.709 1513.66 Q973.519 1513.66 976.575 1518.27 Q979.653 1522.85 979.653 1531.6 Q979.653 1540.33 976.575 1544.94 Q973.519 1549.52 967.709 1549.52 Q961.899 1549.52 958.82 1544.94 Q955.765 1540.33 955.765 1531.6 Q955.765 1522.85 958.82 1518.27 Q961.899 1513.66 967.709 1513.66 Z\" fill=\"#000000\" fill-rule=\"evenodd\" fill-opacity=\"1\" /><path clip-path=\"url(#clip020)\" d=\"M988.681 1544.91 L996.32 1544.91 L996.32 1518.55 L988.01 1520.21 L988.01 1515.95 L996.274 1514.29 L1000.95 1514.29 L1000.95 1544.91 L1008.59 1544.91 L1008.59 1548.85 L988.681 1548.85 L988.681 1544.91 Z\" fill=\"#000000\" fill-rule=\"evenodd\" fill-opacity=\"1\" /><path clip-path=\"url(#clip020)\" d=\"M1015.28 1533.96 L1027.75 1533.96 L1027.75 1537.76 L1015.28 1537.76 L1015.28 1533.96 Z\" fill=\"#000000\" fill-rule=\"evenodd\" fill-opacity=\"1\" /><path clip-path=\"url(#clip020)\" d=\"M1045.14 1517.37 Q1041.53 1517.37 1039.7 1520.93 Q1037.89 1524.47 1037.89 1531.6 Q1037.89 1538.71 1039.7 1542.27 Q1041.53 1545.82 1045.14 1545.82 Q1048.77 1545.82 1050.58 1542.27 Q1052.41 1538.71 1052.41 1531.6 Q1052.41 1524.47 1050.58 1520.93 Q1048.77 1517.37 1045.14 1517.37 M1045.14 1513.66 Q1050.95 1513.66 1054 1518.27 Q1057.08 1522.85 1057.08 1531.6 Q1057.08 1540.33 1054 1544.94 Q1050.95 1549.52 1045.14 1549.52 Q1039.33 1549.52 1036.25 1544.94 Q1033.19 1540.33 1033.19 1531.6 Q1033.19 1522.85 1036.25 1518.27 Q1039.33 1513.66 1045.14 1513.66 Z\" fill=\"#000000\" fill-rule=\"evenodd\" fill-opacity=\"1\" /><path clip-path=\"url(#clip020)\" d=\"M1066.11 1544.91 L1073.75 1544.91 L1073.75 1518.55 L1065.44 1520.21 L1065.44 1515.95 L1073.7 1514.29 L1078.38 1514.29 L1078.38 1544.91 L1086.02 1544.91 L1086.02 1548.85 L1066.11 1548.85 L1066.11 1544.91 Z\" fill=\"#000000\" fill-rule=\"evenodd\" fill-opacity=\"1\" /><path clip-path=\"url(#clip020)\" d=\"M1192.61 1544.91 L1208.93 1544.91 L1208.93 1548.85 L1186.98 1548.85 L1186.98 1544.91 Q1189.64 1542.16 1194.23 1537.53 Q1198.83 1532.88 1200.01 1531.53 Q1202.26 1529.01 1203.14 1527.27 Q1204.04 1525.51 1204.04 1523.82 Q1204.04 1521.07 1202.1 1519.33 Q1200.18 1517.6 1197.07 1517.6 Q1194.88 1517.6 1192.42 1518.36 Q1189.99 1519.13 1187.21 1520.68 L1187.21 1515.95 Q1190.04 1514.82 1192.49 1514.24 Q1194.94 1513.66 1196.98 1513.66 Q1202.35 1513.66 1205.55 1516.35 Q1208.74 1519.03 1208.74 1523.52 Q1208.74 1525.65 1207.93 1527.57 Q1207.14 1529.47 1205.04 1532.07 Q1204.46 1532.74 1201.36 1535.95 Q1198.25 1539.15 1192.61 1544.91 Z\" fill=\"#000000\" fill-rule=\"evenodd\" fill-opacity=\"1\" /><path clip-path=\"url(#clip020)\" d=\"M1228.74 1517.37 Q1225.13 1517.37 1223.3 1520.93 Q1221.5 1524.47 1221.5 1531.6 Q1221.5 1538.71 1223.3 1542.27 Q1225.13 1545.82 1228.74 1545.82 Q1232.37 1545.82 1234.18 1542.27 Q1236.01 1538.71 1236.01 1531.6 Q1236.01 1524.47 1234.18 1520.93 Q1232.37 1517.37 1228.74 1517.37 M1228.74 1513.66 Q1234.55 1513.66 1237.61 1518.27 Q1240.68 1522.85 1240.68 1531.6 Q1240.68 1540.33 1237.61 1544.94 Q1234.55 1549.52 1228.74 1549.52 Q1222.93 1549.52 1219.85 1544.94 Q1216.8 1540.33 1216.8 1531.6 Q1216.8 1522.85 1219.85 1518.27 Q1222.93 1513.66 1228.74 1513.66 Z\" fill=\"#000000\" fill-rule=\"evenodd\" fill-opacity=\"1\" /><path clip-path=\"url(#clip020)\" d=\"M1249.71 1544.91 L1257.35 1544.91 L1257.35 1518.55 L1249.04 1520.21 L1249.04 1515.95 L1257.31 1514.29 L1261.98 1514.29 L1261.98 1544.91 L1269.62 1544.91 L1269.62 1548.85 L1249.71 1548.85 L1249.71 1544.91 Z\" fill=\"#000000\" fill-rule=\"evenodd\" fill-opacity=\"1\" /><path clip-path=\"url(#clip020)\" d=\"M1289.06 1532.44 Q1285.73 1532.44 1283.81 1534.22 Q1281.91 1536 1281.91 1539.13 Q1281.91 1542.25 1283.81 1544.03 Q1285.73 1545.82 1289.06 1545.82 Q1292.4 1545.82 1294.32 1544.03 Q1296.24 1542.23 1296.24 1539.13 Q1296.24 1536 1294.32 1534.22 Q1292.42 1532.44 1289.06 1532.44 M1284.39 1530.45 Q1281.38 1529.7 1279.69 1527.64 Q1278.02 1525.58 1278.02 1522.62 Q1278.02 1518.48 1280.96 1516.07 Q1283.93 1513.66 1289.06 1513.66 Q1294.23 1513.66 1297.17 1516.07 Q1300.11 1518.48 1300.11 1522.62 Q1300.11 1525.58 1298.42 1527.64 Q1296.75 1529.7 1293.76 1530.45 Q1297.14 1531.23 1299.02 1533.52 Q1300.92 1535.82 1300.92 1539.13 Q1300.92 1544.15 1297.84 1546.83 Q1294.78 1549.52 1289.06 1549.52 Q1283.35 1549.52 1280.27 1546.83 Q1277.21 1544.15 1277.21 1539.13 Q1277.21 1535.82 1279.11 1533.52 Q1281.01 1531.23 1284.39 1530.45 M1282.68 1523.06 Q1282.68 1525.75 1284.34 1527.25 Q1286.03 1528.76 1289.06 1528.76 Q1292.07 1528.76 1293.76 1527.25 Q1295.48 1525.75 1295.48 1523.06 Q1295.48 1520.38 1293.76 1518.87 Q1292.07 1517.37 1289.06 1517.37 Q1286.03 1517.37 1284.34 1518.87 Q1282.68 1520.38 1282.68 1523.06 Z\" fill=\"#000000\" fill-rule=\"evenodd\" fill-opacity=\"1\" /><path clip-path=\"url(#clip020)\" d=\"M1306.47 1533.96 L1318.95 1533.96 L1318.95 1537.76 L1306.47 1537.76 L1306.47 1533.96 Z\" fill=\"#000000\" fill-rule=\"evenodd\" fill-opacity=\"1\" /><path clip-path=\"url(#clip020)\" d=\"M1336.33 1517.37 Q1332.72 1517.37 1330.89 1520.93 Q1329.09 1524.47 1329.09 1531.6 Q1329.09 1538.71 1330.89 1542.27 Q1332.72 1545.82 1336.33 1545.82 Q1339.97 1545.82 1341.77 1542.27 Q1343.6 1538.71 1343.6 1531.6 Q1343.6 1524.47 1341.77 1520.93 Q1339.97 1517.37 1336.33 1517.37 M1336.33 1513.66 Q1342.14 1513.66 1345.2 1518.27 Q1348.28 1522.85 1348.28 1531.6 Q1348.28 1540.33 1345.2 1544.94 Q1342.14 1549.52 1336.33 1549.52 Q1330.52 1549.52 1327.44 1544.94 Q1324.39 1540.33 1324.39 1531.6 Q1324.39 1522.85 1327.44 1518.27 Q1330.52 1513.66 1336.33 1513.66 Z\" fill=\"#000000\" fill-rule=\"evenodd\" fill-opacity=\"1\" /><path clip-path=\"url(#clip020)\" d=\"M1357.3 1544.91 L1364.94 1544.91 L1364.94 1518.55 L1356.63 1520.21 L1356.63 1515.95 L1364.9 1514.29 L1369.57 1514.29 L1369.57 1544.91 L1377.21 1544.91 L1377.21 1548.85 L1357.3 1548.85 L1357.3 1544.91 Z\" fill=\"#000000\" fill-rule=\"evenodd\" fill-opacity=\"1\" /><path clip-path=\"url(#clip020)\" d=\"M1383.9 1533.96 L1396.38 1533.96 L1396.38 1537.76 L1383.9 1537.76 L1383.9 1533.96 Z\" fill=\"#000000\" fill-rule=\"evenodd\" fill-opacity=\"1\" /><path clip-path=\"url(#clip020)\" d=\"M1413.76 1517.37 Q1410.15 1517.37 1408.32 1520.93 Q1406.52 1524.47 1406.52 1531.6 Q1406.52 1538.71 1408.32 1542.27 Q1410.15 1545.82 1413.76 1545.82 Q1417.4 1545.82 1419.2 1542.27 Q1421.03 1538.71 1421.03 1531.6 Q1421.03 1524.47 1419.2 1520.93 Q1417.4 1517.37 1413.76 1517.37 M1413.76 1513.66 Q1419.57 1513.66 1422.63 1518.27 Q1425.71 1522.85 1425.71 1531.6 Q1425.71 1540.33 1422.63 1544.94 Q1419.57 1549.52 1413.76 1549.52 Q1407.95 1549.52 1404.87 1544.94 Q1401.82 1540.33 1401.82 1531.6 Q1401.82 1522.85 1404.87 1518.27 Q1407.95 1513.66 1413.76 1513.66 Z\" fill=\"#000000\" fill-rule=\"evenodd\" fill-opacity=\"1\" /><path clip-path=\"url(#clip020)\" d=\"M1434.73 1544.91 L1442.37 1544.91 L1442.37 1518.55 L1434.06 1520.21 L1434.06 1515.95 L1442.33 1514.29 L1447 1514.29 L1447 1544.91 L1454.64 1544.91 L1454.64 1548.85 L1434.73 1548.85 L1434.73 1544.91 Z\" fill=\"#000000\" fill-rule=\"evenodd\" fill-opacity=\"1\" /><path clip-path=\"url(#clip020)\" d=\"M1561.23 1544.91 L1577.55 1544.91 L1577.55 1548.85 L1555.61 1548.85 L1555.61 1544.91 Q1558.27 1542.16 1562.85 1537.53 Q1567.46 1532.88 1568.64 1531.53 Q1570.88 1529.01 1571.76 1527.27 Q1572.67 1525.51 1572.67 1523.82 Q1572.67 1521.07 1570.72 1519.33 Q1568.8 1517.6 1565.7 1517.6 Q1563.5 1517.6 1561.04 1518.36 Q1558.61 1519.13 1555.84 1520.68 L1555.84 1515.95 Q1558.66 1514.82 1561.11 1514.24 Q1563.57 1513.66 1565.61 1513.66 Q1570.98 1513.66 1574.17 1516.35 Q1577.36 1519.03 1577.36 1523.52 Q1577.36 1525.65 1576.55 1527.57 Q1575.77 1529.47 1573.66 1532.07 Q1573.08 1532.74 1569.98 1535.95 Q1566.88 1539.15 1561.23 1544.91 Z\" fill=\"#000000\" fill-rule=\"evenodd\" fill-opacity=\"1\" /><path clip-path=\"url(#clip020)\" d=\"M1597.36 1517.37 Q1593.75 1517.37 1591.92 1520.93 Q1590.12 1524.47 1590.12 1531.6 Q1590.12 1538.71 1591.92 1542.27 Q1593.75 1545.82 1597.36 1545.82 Q1601 1545.82 1602.8 1542.27 Q1604.63 1538.71 1604.63 1531.6 Q1604.63 1524.47 1602.8 1520.93 Q1601 1517.37 1597.36 1517.37 M1597.36 1513.66 Q1603.17 1513.66 1606.23 1518.27 Q1609.31 1522.85 1609.31 1531.6 Q1609.31 1540.33 1606.23 1544.94 Q1603.17 1549.52 1597.36 1549.52 Q1591.55 1549.52 1588.48 1544.94 Q1585.42 1540.33 1585.42 1531.6 Q1585.42 1522.85 1588.48 1518.27 Q1591.55 1513.66 1597.36 1513.66 Z\" fill=\"#000000\" fill-rule=\"evenodd\" fill-opacity=\"1\" /><path clip-path=\"url(#clip020)\" d=\"M1618.34 1544.91 L1625.98 1544.91 L1625.98 1518.55 L1617.66 1520.21 L1617.66 1515.95 L1625.93 1514.29 L1630.6 1514.29 L1630.6 1544.91 L1638.24 1544.91 L1638.24 1548.85 L1618.34 1548.85 L1618.34 1544.91 Z\" fill=\"#000000\" fill-rule=\"evenodd\" fill-opacity=\"1\" /><path clip-path=\"url(#clip020)\" d=\"M1647.83 1548.13 L1647.83 1543.87 Q1649.59 1544.7 1651.39 1545.14 Q1653.2 1545.58 1654.93 1545.58 Q1659.56 1545.58 1661.99 1542.48 Q1664.45 1539.36 1664.79 1533.01 Q1663.45 1535.01 1661.39 1536.07 Q1659.33 1537.13 1656.83 1537.13 Q1651.65 1537.13 1648.61 1534.01 Q1645.6 1530.86 1645.6 1525.42 Q1645.6 1520.1 1648.75 1516.88 Q1651.9 1513.66 1657.13 1513.66 Q1663.13 1513.66 1666.28 1518.27 Q1669.45 1522.85 1669.45 1531.6 Q1669.45 1539.77 1665.56 1544.66 Q1661.69 1549.52 1655.14 1549.52 Q1653.38 1549.52 1651.58 1549.17 Q1649.77 1548.82 1647.83 1548.13 M1657.13 1533.48 Q1660.28 1533.48 1662.11 1531.32 Q1663.96 1529.17 1663.96 1525.42 Q1663.96 1521.7 1662.11 1519.54 Q1660.28 1517.37 1657.13 1517.37 Q1653.98 1517.37 1652.13 1519.54 Q1650.3 1521.7 1650.3 1525.42 Q1650.3 1529.17 1652.13 1531.32 Q1653.98 1533.48 1657.13 1533.48 Z\" fill=\"#000000\" fill-rule=\"evenodd\" fill-opacity=\"1\" /><path clip-path=\"url(#clip020)\" d=\"M1675.1 1533.96 L1687.57 1533.96 L1687.57 1537.76 L1675.1 1537.76 L1675.1 1533.96 Z\" fill=\"#000000\" fill-rule=\"evenodd\" fill-opacity=\"1\" /><path clip-path=\"url(#clip020)\" d=\"M1704.96 1517.37 Q1701.35 1517.37 1699.52 1520.93 Q1697.71 1524.47 1697.71 1531.6 Q1697.71 1538.71 1699.52 1542.27 Q1701.35 1545.82 1704.96 1545.82 Q1708.59 1545.82 1710.4 1542.27 Q1712.22 1538.71 1712.22 1531.6 Q1712.22 1524.47 1710.4 1520.93 Q1708.59 1517.37 1704.96 1517.37 M1704.96 1513.66 Q1710.77 1513.66 1713.82 1518.27 Q1716.9 1522.85 1716.9 1531.6 Q1716.9 1540.33 1713.82 1544.94 Q1710.77 1549.52 1704.96 1549.52 Q1699.15 1549.52 1696.07 1544.94 Q1693.01 1540.33 1693.01 1531.6 Q1693.01 1522.85 1696.07 1518.27 Q1699.15 1513.66 1704.96 1513.66 Z\" fill=\"#000000\" fill-rule=\"evenodd\" fill-opacity=\"1\" /><path clip-path=\"url(#clip020)\" d=\"M1725.93 1544.91 L1733.57 1544.91 L1733.57 1518.55 L1725.26 1520.21 L1725.26 1515.95 L1733.52 1514.29 L1738.2 1514.29 L1738.2 1544.91 L1745.84 1544.91 L1745.84 1548.85 L1725.93 1548.85 L1725.93 1544.91 Z\" fill=\"#000000\" fill-rule=\"evenodd\" fill-opacity=\"1\" /><path clip-path=\"url(#clip020)\" d=\"M1752.53 1533.96 L1765 1533.96 L1765 1537.76 L1752.53 1537.76 L1752.53 1533.96 Z\" fill=\"#000000\" fill-rule=\"evenodd\" fill-opacity=\"1\" /><path clip-path=\"url(#clip020)\" d=\"M1782.39 1517.37 Q1778.78 1517.37 1776.95 1520.93 Q1775.14 1524.47 1775.14 1531.6 Q1775.14 1538.71 1776.95 1542.27 Q1778.78 1545.82 1782.39 1545.82 Q1786.02 1545.82 1787.83 1542.27 Q1789.65 1538.71 1789.65 1531.6 Q1789.65 1524.47 1787.83 1520.93 Q1786.02 1517.37 1782.39 1517.37 M1782.39 1513.66 Q1788.2 1513.66 1791.25 1518.27 Q1794.33 1522.85 1794.33 1531.6 Q1794.33 1540.33 1791.25 1544.94 Q1788.2 1549.52 1782.39 1549.52 Q1776.58 1549.52 1773.5 1544.94 Q1770.44 1540.33 1770.44 1531.6 Q1770.44 1522.85 1773.5 1518.27 Q1776.58 1513.66 1782.39 1513.66 Z\" fill=\"#000000\" fill-rule=\"evenodd\" fill-opacity=\"1\" /><path clip-path=\"url(#clip020)\" d=\"M1803.36 1544.91 L1811 1544.91 L1811 1518.55 L1802.69 1520.21 L1802.69 1515.95 L1810.95 1514.29 L1815.63 1514.29 L1815.63 1544.91 L1823.27 1544.91 L1823.27 1548.85 L1803.36 1548.85 L1803.36 1544.91 Z\" fill=\"#000000\" fill-rule=\"evenodd\" fill-opacity=\"1\" /><path clip-path=\"url(#clip020)\" d=\"M1929.85 1544.91 L1946.17 1544.91 L1946.17 1548.85 L1924.23 1548.85 L1924.23 1544.91 Q1926.89 1542.16 1931.47 1537.53 Q1936.08 1532.88 1937.26 1531.53 Q1939.51 1529.01 1940.39 1527.27 Q1941.29 1525.51 1941.29 1523.82 Q1941.29 1521.07 1939.34 1519.33 Q1937.42 1517.6 1934.32 1517.6 Q1932.12 1517.6 1929.67 1518.36 Q1927.24 1519.13 1924.46 1520.68 L1924.46 1515.95 Q1927.28 1514.82 1929.74 1514.24 Q1932.19 1513.66 1934.23 1513.66 Q1939.6 1513.66 1942.79 1516.35 Q1945.99 1519.03 1945.99 1523.52 Q1945.99 1525.65 1945.18 1527.57 Q1944.39 1529.47 1942.28 1532.07 Q1941.71 1532.74 1938.6 1535.95 Q1935.5 1539.15 1929.85 1544.91 Z\" fill=\"#000000\" fill-rule=\"evenodd\" fill-opacity=\"1\" /><path clip-path=\"url(#clip020)\" d=\"M1965.99 1517.37 Q1962.38 1517.37 1960.55 1520.93 Q1958.74 1524.47 1958.74 1531.6 Q1958.74 1538.71 1960.55 1542.27 Q1962.38 1545.82 1965.99 1545.82 Q1969.62 1545.82 1971.43 1542.27 Q1973.26 1538.71 1973.26 1531.6 Q1973.26 1524.47 1971.43 1520.93 Q1969.62 1517.37 1965.99 1517.37 M1965.99 1513.66 Q1971.8 1513.66 1974.85 1518.27 Q1977.93 1522.85 1977.93 1531.6 Q1977.93 1540.33 1974.85 1544.94 Q1971.8 1549.52 1965.99 1549.52 Q1960.18 1549.52 1957.1 1544.94 Q1954.04 1540.33 1954.04 1531.6 Q1954.04 1522.85 1957.1 1518.27 Q1960.18 1513.66 1965.99 1513.66 Z\" fill=\"#000000\" fill-rule=\"evenodd\" fill-opacity=\"1\" /><path clip-path=\"url(#clip020)\" d=\"M1990.18 1544.91 L2006.5 1544.91 L2006.5 1548.85 L1984.55 1548.85 L1984.55 1544.91 Q1987.21 1542.16 1991.8 1537.53 Q1996.4 1532.88 1997.58 1531.53 Q1999.83 1529.01 2000.71 1527.27 Q2001.61 1525.51 2001.61 1523.82 Q2001.61 1521.07 1999.67 1519.33 Q1997.75 1517.6 1994.65 1517.6 Q1992.45 1517.6 1989.99 1518.36 Q1987.56 1519.13 1984.78 1520.68 L1984.78 1515.95 Q1987.61 1514.82 1990.06 1514.24 Q1992.52 1513.66 1994.55 1513.66 Q1999.92 1513.66 2003.12 1516.35 Q2006.31 1519.03 2006.31 1523.52 Q2006.31 1525.65 2005.5 1527.57 Q2004.71 1529.47 2002.61 1532.07 Q2002.03 1532.74 1998.93 1535.95 Q1995.83 1539.15 1990.18 1544.91 Z\" fill=\"#000000\" fill-rule=\"evenodd\" fill-opacity=\"1\" /><path clip-path=\"url(#clip020)\" d=\"M2026.31 1517.37 Q2022.7 1517.37 2020.87 1520.93 Q2019.07 1524.47 2019.07 1531.6 Q2019.07 1538.71 2020.87 1542.27 Q2022.7 1545.82 2026.31 1545.82 Q2029.95 1545.82 2031.75 1542.27 Q2033.58 1538.71 2033.58 1531.6 Q2033.58 1524.47 2031.75 1520.93 Q2029.95 1517.37 2026.31 1517.37 M2026.31 1513.66 Q2032.12 1513.66 2035.18 1518.27 Q2038.26 1522.85 2038.26 1531.6 Q2038.26 1540.33 2035.18 1544.94 Q2032.12 1549.52 2026.31 1549.52 Q2020.5 1549.52 2017.42 1544.94 Q2014.37 1540.33 2014.37 1531.6 Q2014.37 1522.85 2017.42 1518.27 Q2020.5 1513.66 2026.31 1513.66 Z\" fill=\"#000000\" fill-rule=\"evenodd\" fill-opacity=\"1\" /><path clip-path=\"url(#clip020)\" d=\"M2043.72 1533.96 L2056.2 1533.96 L2056.2 1537.76 L2043.72 1537.76 L2043.72 1533.96 Z\" fill=\"#000000\" fill-rule=\"evenodd\" fill-opacity=\"1\" /><path clip-path=\"url(#clip020)\" d=\"M2073.58 1517.37 Q2069.97 1517.37 2068.14 1520.93 Q2066.33 1524.47 2066.33 1531.6 Q2066.33 1538.71 2068.14 1542.27 Q2069.97 1545.82 2073.58 1545.82 Q2077.21 1545.82 2079.02 1542.27 Q2080.85 1538.71 2080.85 1531.6 Q2080.85 1524.47 2079.02 1520.93 Q2077.21 1517.37 2073.58 1517.37 M2073.58 1513.66 Q2079.39 1513.66 2082.45 1518.27 Q2085.52 1522.85 2085.52 1531.6 Q2085.52 1540.33 2082.45 1544.94 Q2079.39 1549.52 2073.58 1549.52 Q2067.77 1549.52 2064.69 1544.94 Q2061.64 1540.33 2061.64 1531.6 Q2061.64 1522.85 2064.69 1518.27 Q2067.77 1513.66 2073.58 1513.66 Z\" fill=\"#000000\" fill-rule=\"evenodd\" fill-opacity=\"1\" /><path clip-path=\"url(#clip020)\" d=\"M2094.55 1544.91 L2102.19 1544.91 L2102.19 1518.55 L2093.88 1520.21 L2093.88 1515.95 L2102.14 1514.29 L2106.82 1514.29 L2106.82 1544.91 L2114.46 1544.91 L2114.46 1548.85 L2094.55 1548.85 L2094.55 1544.91 Z\" fill=\"#000000\" fill-rule=\"evenodd\" fill-opacity=\"1\" /><path clip-path=\"url(#clip020)\" d=\"M2121.15 1533.96 L2133.63 1533.96 L2133.63 1537.76 L2121.15 1537.76 L2121.15 1533.96 Z\" fill=\"#000000\" fill-rule=\"evenodd\" fill-opacity=\"1\" /><path clip-path=\"url(#clip020)\" d=\"M2151.01 1517.37 Q2147.4 1517.37 2145.57 1520.93 Q2143.76 1524.47 2143.76 1531.6 Q2143.76 1538.71 2145.57 1542.27 Q2147.4 1545.82 2151.01 1545.82 Q2154.64 1545.82 2156.45 1542.27 Q2158.28 1538.71 2158.28 1531.6 Q2158.28 1524.47 2156.45 1520.93 Q2154.64 1517.37 2151.01 1517.37 M2151.01 1513.66 Q2156.82 1513.66 2159.88 1518.27 Q2162.95 1522.85 2162.95 1531.6 Q2162.95 1540.33 2159.88 1544.94 Q2156.82 1549.52 2151.01 1549.52 Q2145.2 1549.52 2142.12 1544.94 Q2139.07 1540.33 2139.07 1531.6 Q2139.07 1522.85 2142.12 1518.27 Q2145.2 1513.66 2151.01 1513.66 Z\" fill=\"#000000\" fill-rule=\"evenodd\" fill-opacity=\"1\" /><path clip-path=\"url(#clip020)\" d=\"M2171.98 1544.91 L2179.62 1544.91 L2179.62 1518.55 L2171.31 1520.21 L2171.31 1515.95 L2179.57 1514.29 L2184.25 1514.29 L2184.25 1544.91 L2191.89 1544.91 L2191.89 1548.85 L2171.98 1548.85 L2171.98 1544.91 Z\" fill=\"#000000\" fill-rule=\"evenodd\" fill-opacity=\"1\" /><polyline clip-path=\"url(#clip022)\" style=\"stroke:#000000; stroke-linecap:butt; stroke-linejoin:round; stroke-width:2; stroke-opacity:0.1; fill:none\" points=\"\n",
       "  147.478,1486.45 2352.76,1486.45 \n",
       "  \"/>\n",
       "<polyline clip-path=\"url(#clip022)\" style=\"stroke:#000000; stroke-linecap:butt; stroke-linejoin:round; stroke-width:2; stroke-opacity:0.1; fill:none\" points=\"\n",
       "  147.478,1126.65 2352.76,1126.65 \n",
       "  \"/>\n",
       "<polyline clip-path=\"url(#clip022)\" style=\"stroke:#000000; stroke-linecap:butt; stroke-linejoin:round; stroke-width:2; stroke-opacity:0.1; fill:none\" points=\"\n",
       "  147.478,766.846 2352.76,766.846 \n",
       "  \"/>\n",
       "<polyline clip-path=\"url(#clip022)\" style=\"stroke:#000000; stroke-linecap:butt; stroke-linejoin:round; stroke-width:2; stroke-opacity:0.1; fill:none\" points=\"\n",
       "  147.478,407.045 2352.76,407.045 \n",
       "  \"/>\n",
       "<polyline clip-path=\"url(#clip022)\" style=\"stroke:#000000; stroke-linecap:butt; stroke-linejoin:round; stroke-width:2; stroke-opacity:0.1; fill:none\" points=\"\n",
       "  147.478,47.2441 2352.76,47.2441 \n",
       "  \"/>\n",
       "<polyline clip-path=\"url(#clip020)\" style=\"stroke:#000000; stroke-linecap:butt; stroke-linejoin:round; stroke-width:4; stroke-opacity:1; fill:none\" points=\"\n",
       "  147.478,1486.45 147.478,47.2441 \n",
       "  \"/>\n",
       "<polyline clip-path=\"url(#clip020)\" style=\"stroke:#000000; stroke-linecap:butt; stroke-linejoin:round; stroke-width:4; stroke-opacity:1; fill:none\" points=\"\n",
       "  147.478,1486.45 166.376,1486.45 \n",
       "  \"/>\n",
       "<polyline clip-path=\"url(#clip020)\" style=\"stroke:#000000; stroke-linecap:butt; stroke-linejoin:round; stroke-width:4; stroke-opacity:1; fill:none\" points=\"\n",
       "  147.478,1126.65 166.376,1126.65 \n",
       "  \"/>\n",
       "<polyline clip-path=\"url(#clip020)\" style=\"stroke:#000000; stroke-linecap:butt; stroke-linejoin:round; stroke-width:4; stroke-opacity:1; fill:none\" points=\"\n",
       "  147.478,766.846 166.376,766.846 \n",
       "  \"/>\n",
       "<polyline clip-path=\"url(#clip020)\" style=\"stroke:#000000; stroke-linecap:butt; stroke-linejoin:round; stroke-width:4; stroke-opacity:1; fill:none\" points=\"\n",
       "  147.478,407.045 166.376,407.045 \n",
       "  \"/>\n",
       "<polyline clip-path=\"url(#clip020)\" style=\"stroke:#000000; stroke-linecap:butt; stroke-linejoin:round; stroke-width:4; stroke-opacity:1; fill:none\" points=\"\n",
       "  147.478,47.2441 166.376,47.2441 \n",
       "  \"/>\n",
       "<path clip-path=\"url(#clip020)\" d=\"M51.3625 1486.9 L81.0383 1486.9 L81.0383 1490.83 L51.3625 1490.83 L51.3625 1486.9 Z\" fill=\"#000000\" fill-rule=\"evenodd\" fill-opacity=\"1\" /><path clip-path=\"url(#clip020)\" d=\"M95.1586 1499.79 L111.478 1499.79 L111.478 1503.73 L89.5336 1503.73 L89.5336 1499.79 Q92.1956 1497.04 96.7789 1492.41 Q101.385 1487.76 102.566 1486.41 Q104.811 1483.89 105.691 1482.15 Q106.594 1480.39 106.594 1478.7 Q106.594 1475.95 104.649 1474.21 Q102.728 1472.48 99.6261 1472.48 Q97.4271 1472.48 94.9734 1473.24 Q92.5428 1474.01 89.7651 1475.56 L89.7651 1470.83 Q92.5891 1469.7 95.0428 1469.12 Q97.4965 1468.54 99.5335 1468.54 Q104.904 1468.54 108.098 1471.23 Q111.293 1473.91 111.293 1478.4 Q111.293 1480.53 110.483 1482.45 Q109.696 1484.35 107.589 1486.95 Q107.01 1487.62 103.909 1490.83 Q100.807 1494.03 95.1586 1499.79 Z\" fill=\"#000000\" fill-rule=\"evenodd\" fill-opacity=\"1\" /><path clip-path=\"url(#clip020)\" d=\"M50.9921 1127.1 L80.6679 1127.1 L80.6679 1131.03 L50.9921 1131.03 L50.9921 1127.1 Z\" fill=\"#000000\" fill-rule=\"evenodd\" fill-opacity=\"1\" /><path clip-path=\"url(#clip020)\" d=\"M91.5706 1139.99 L99.2095 1139.99 L99.2095 1113.63 L90.8993 1115.29 L90.8993 1111.03 L99.1632 1109.37 L103.839 1109.37 L103.839 1139.99 L111.478 1139.99 L111.478 1143.93 L91.5706 1143.93 L91.5706 1139.99 Z\" fill=\"#000000\" fill-rule=\"evenodd\" fill-opacity=\"1\" /><path clip-path=\"url(#clip020)\" d=\"M99.5335 752.645 Q95.9224 752.645 94.0937 756.209 Q92.2882 759.751 92.2882 766.881 Q92.2882 773.987 94.0937 777.552 Q95.9224 781.094 99.5335 781.094 Q103.168 781.094 104.973 777.552 Q106.802 773.987 106.802 766.881 Q106.802 759.751 104.973 756.209 Q103.168 752.645 99.5335 752.645 M99.5335 748.941 Q105.344 748.941 108.399 753.547 Q111.478 758.131 111.478 766.881 Q111.478 775.608 108.399 780.214 Q105.344 784.797 99.5335 784.797 Q93.7234 784.797 90.6447 780.214 Q87.5892 775.608 87.5892 766.881 Q87.5892 758.131 90.6447 753.547 Q93.7234 748.941 99.5335 748.941 Z\" fill=\"#000000\" fill-rule=\"evenodd\" fill-opacity=\"1\" /><path clip-path=\"url(#clip020)\" d=\"M91.5706 420.39 L99.2095 420.39 L99.2095 394.024 L90.8993 395.691 L90.8993 391.432 L99.1632 389.765 L103.839 389.765 L103.839 420.39 L111.478 420.39 L111.478 424.325 L91.5706 424.325 L91.5706 420.39 Z\" fill=\"#000000\" fill-rule=\"evenodd\" fill-opacity=\"1\" /><path clip-path=\"url(#clip020)\" d=\"M95.1586 60.5889 L111.478 60.5889 L111.478 64.5241 L89.5336 64.5241 L89.5336 60.5889 Q92.1956 57.8343 96.7789 53.2047 Q101.385 48.552 102.566 47.2094 Q104.811 44.6862 105.691 42.9501 Q106.594 41.1909 106.594 39.5011 Q106.594 36.7465 104.649 35.0104 Q102.728 33.2743 99.6261 33.2743 Q97.4271 33.2743 94.9734 34.0381 Q92.5428 34.802 89.7651 36.3529 L89.7651 31.6308 Q92.5891 30.4965 95.0428 29.9178 Q97.4965 29.3391 99.5335 29.3391 Q104.904 29.3391 108.098 32.0243 Q111.293 34.7094 111.293 39.2002 Q111.293 41.3298 110.483 43.2511 Q109.696 45.1492 107.589 47.7418 Q107.01 48.4131 103.909 51.6306 Q100.807 54.8251 95.1586 60.5889 Z\" fill=\"#000000\" fill-rule=\"evenodd\" fill-opacity=\"1\" /><polyline clip-path=\"url(#clip022)\" style=\"stroke:#009af9; stroke-linecap:butt; stroke-linejoin:round; stroke-width:4; stroke-opacity:1; fill:none\" points=\"\n",
       "  209.891,1507.63 219.991,872.235 230.09,881.412 240.189,990.952 250.289,982.504 260.388,899.329 270.487,1017.61 280.586,1029.41 290.686,515.355 300.785,674.276 \n",
       "  310.884,738.223 320.983,749.148 331.083,811.347 341.182,824.457 351.281,728.609 361.381,650.678 371.48,800.422 381.579,416.885 391.678,346.383 401.778,613.824 \n",
       "  411.877,704.137 421.976,495.69 432.076,392.267 442.175,878.353 452.274,1021.54 462.373,883.597 472.473,823.583 482.572,920.887 492.671,740.845 502.77,824.457 \n",
       "  512.87,958.906 522.969,874.42 533.068,576.68 543.168,1158.18 553.267,382.216 563.366,369.106 573.465,783.379 583.565,1004.5 593.664,846.015 603.763,527.59 \n",
       "  613.862,1153.81 623.962,672.528 634.061,856.503 644.16,605.085 654.26,1016.74 664.359,924.383 674.458,713.751 684.557,1017.61 694.657,651.989 704.756,693.066 \n",
       "  714.855,515.792 724.955,629.265 735.054,467.139 745.153,634.072 755.252,373.476 765.352,458.399 775.451,817.028 785.55,279.377 795.649,573.621 805.749,729.046 \n",
       "  815.848,665.973 825.947,816.154 836.047,1184.83 846.146,669.032 856.245,882.286 866.344,952.351 876.444,1051.26 886.543,641.501 896.642,716.373 906.742,803.044 \n",
       "  916.841,229.85 926.94,1323.22 937.039,1232.61 947.139,958.032 957.238,1188.33 967.337,1039.02 977.436,1219.94 987.536,1228.68 997.635,998.381 1007.73,747.837 \n",
       "  1017.83,965.898 1027.93,990.952 1038.03,702.389 1048.13,906.321 1058.23,1167.35 1068.33,570.125 1078.43,500.934 1088.53,532.834 1098.63,422.566 1108.73,872.672 \n",
       "  1118.83,874.42 1128.93,473.257 1139.02,523.221 1149.12,277.192 1159.22,618.194 1169.32,349.442 1179.42,419.944 1189.52,877.916 1199.62,949.729 1209.72,878.79 \n",
       "  1219.82,944.485 1229.92,1064.08 1240.02,997.944 1250.12,993.574 1260.22,781.631 1270.32,725.55 1280.41,717.247 1290.51,1099.47 1300.61,903.262 1310.71,1191.82 \n",
       "  1320.81,524.095 1330.91,498.749 1341.01,533.708 1351.11,1246.16 1361.21,1038.58 1371.31,385.275 1381.41,1021.54 1391.51,868.302 1401.61,1227.37 1411.71,764.006 \n",
       "  1421.8,736.038 1431.9,878.79 1442,812.221 1452.1,532.834 1462.2,835.819 1472.3,750.022 1482.4,782.942 1492.5,615.135 1502.6,574.932 1512.7,525.842 \n",
       "  1522.8,672.528 1532.9,749.585 1543,662.477 1553.1,728.172 1563.19,821.398 1573.29,902.388 1583.39,947.981 1593.49,1297.43 1603.59,1194.45 1613.69,595.908 \n",
       "  1623.79,507.052 1633.89,1119.14 1643.99,595.471 1654.09,1262.76 1664.19,574.058 1674.29,736.475 1684.39,993.137 1694.49,1318.41 1704.58,665.536 1714.68,823.146 \n",
       "  1724.78,824.894 1734.88,530.212 1744.98,1286.51 1755.08,1163.86 1765.18,855.629 1775.28,1365.75 1785.38,885.345 1795.48,393.578 1805.58,865.68 1815.68,609.891 \n",
       "  1825.78,831.012 1835.87,374.787 1845.97,519.288 1866.17,838.004 1876.27,594.597 1886.37,278.066 1896.47,290.738 1906.57,442.231 1916.67,791.682 1936.87,1018.05 \n",
       "  1946.97,438.735 1957.07,773.765 1967.17,811.784 1977.26,539.826 1987.36,1302.68 1997.46,876.605 2007.56,1084.62 2017.66,846.889 2027.76,1156.87 2037.86,389.208 \n",
       "  2047.96,893.648 2058.06,640.19 2068.16,535.893 2078.26,907.632 2088.36,348.131 2098.46,745.215 2108.56,1003.19 2118.65,495.253 2128.75,1290.44 2138.85,950.166 \n",
       "  2148.95,1193.14 2159.05,1123.51 2169.15,611.639 2179.25,590.664 2209.55,597.656 2219.65,603.774 2229.75,617.32 2239.85,519.288 2249.95,230.287 2260.04,570.999 \n",
       "  2270.14,500.06 2280.24,377.846 2290.34,-2758.48 \n",
       "  \"/>\n",
       "<polyline clip-path=\"url(#clip022)\" style=\"stroke:#e26f46; stroke-linecap:butt; stroke-linejoin:round; stroke-width:4; stroke-opacity:1; fill:none\" points=\"\n",
       "  209.891,867.073 219.991,863.152 230.09,838.36 240.189,812.466 250.289,802.534 260.388,797.848 270.487,784.114 280.586,767.077 290.686,771.714 300.785,781.707 \n",
       "  310.884,785.626 320.983,787.031 331.083,791.812 341.182,790.055 351.281,791.201 361.381,796.611 371.48,776.185 381.579,766.651 391.678,775.579 401.778,755.942 \n",
       "  411.877,736.155 421.976,732.415 432.076,731.992 442.175,726.076 452.274,726.471 462.373,741.94 472.473,739.82 482.572,743.283 492.671,736.63 502.77,742.832 \n",
       "  512.87,749.148 522.969,751.182 533.068,758.188 543.168,765.772 553.267,776.956 563.366,773.793 573.465,771.378 583.565,770.457 593.664,778.257 603.763,761.971 \n",
       "  613.862,743.805 623.962,741.658 634.061,724.103 644.16,712.9 654.26,712.52 664.359,707.407 674.458,702.803 684.557,712.816 694.657,715.795 704.756,706.895 \n",
       "  714.855,725.287 724.955,747.292 735.054,742.715 745.153,733.42 755.252,732.034 765.352,722.43 775.451,727.895 785.55,745.962 795.649,749.237 805.749,768.051 \n",
       "  815.848,768.77 825.947,778.304 836.047,794.915 846.146,794.295 856.245,797.386 866.344,806.187 876.444,821.515 886.543,823.874 896.642,838.041 906.742,855.244 \n",
       "  916.841,861.587 926.94,862.959 937.039,853.792 947.139,858.411 957.238,868.058 967.337,872.747 977.436,866.53 987.536,857.081 997.635,827.802 1007.73,826.162 \n",
       "  1017.83,808.974 1027.93,791.799 1038.03,786.208 1048.13,796.151 1058.23,801.39 1068.33,805.952 1078.43,832.863 1088.53,822.37 1098.63,814.659 1108.73,808.969 \n",
       "  1118.83,794.041 1128.93,783.661 1139.02,779.775 1149.12,769.278 1159.22,775.518 1169.32,768.3 1179.42,753.231 1189.52,738.481 1199.62,756.022 1209.72,760.289 \n",
       "  1219.82,735.06 1229.92,749.622 1240.02,761.473 1250.12,783.877 1260.22,794.891 1270.32,790.484 1280.41,790.625 1290.51,801.559 1300.61,801.869 1310.71,819.889 \n",
       "  1320.81,824.142 1330.91,838.126 1341.01,844.422 1351.11,834.649 1361.21,820.975 1371.31,814.321 1381.41,808.034 1391.51,795.079 1401.61,786.377 1411.71,780.823 \n",
       "  1421.8,784.718 1431.9,791.893 1442,810.609 1452.1,813.673 1462.2,803.758 1472.3,781.669 1482.4,800.864 1492.5,803.984 1502.6,827.502 1512.7,805.821 \n",
       "  1522.8,796.075 1532.9,815.684 1543,825.26 1553.1,818.719 1563.19,805.68 1573.29,807.644 1583.39,801.005 1593.49,814.157 1603.59,825.5 1613.69,835.913 \n",
       "  1623.79,853.007 1633.89,857.372 1643.99,844.812 1654.09,852.894 1664.19,854.022 1674.29,863.866 1684.39,854.262 1694.49,846.833 1704.58,852.495 1714.68,848.186 \n",
       "  1724.78,830.659 1734.88,810.929 1744.98,794.614 1755.08,778.3 1765.18,772.609 1775.28,767.539 1785.38,776.143 1795.48,766.228 1805.58,764.433 1815.68,765.721 \n",
       "  1825.78,775.48 1835.87,786.711 1845.97,781.993 1866.17,776.782 1876.27,767.868 1886.37,770.142 1896.47,764.184 1906.57,764.367 1916.67,752.146 1936.87,725.832 \n",
       "  1946.97,722.27 1957.07,710.574 1967.17,697.991 1977.26,726.922 1987.36,729.647 1997.46,748.462 2007.56,757.897 2017.66,765.537 2027.76,767.84 2037.86,760.087 \n",
       "  2047.96,760.383 2058.06,771.326 2068.16,778.699 2078.26,771.862 2088.36,764.743 2098.46,748.034 2108.56,746.07 2118.65,632.127 2128.75,626.138 2138.85,629.114 \n",
       "  2148.95,605.058 2159.05,595.001 2169.15,576.17 2179.25,565.341 2209.55,540.694 2219.65,547.281 2229.75,531.537 2239.85,526.363 2249.95,525.886 2260.04,505.794 \n",
       "  2270.14,514.553 2280.24,500.985 2290.34,469.597 \n",
       "  \"/>\n",
       "<path clip-path=\"url(#clip020)\" d=\"\n",
       "M1229.5 250.738 L2279.25 250.738 L2279.25 95.2176 L1229.5 95.2176  Z\n",
       "  \" fill=\"#ffffff\" fill-rule=\"evenodd\" fill-opacity=\"1\"/>\n",
       "<polyline clip-path=\"url(#clip020)\" style=\"stroke:#000000; stroke-linecap:butt; stroke-linejoin:round; stroke-width:4; stroke-opacity:1; fill:none\" points=\"\n",
       "  1229.5,250.738 2279.25,250.738 2279.25,95.2176 1229.5,95.2176 1229.5,250.738 \n",
       "  \"/>\n",
       "<polyline clip-path=\"url(#clip020)\" style=\"stroke:#009af9; stroke-linecap:butt; stroke-linejoin:round; stroke-width:4; stroke-opacity:1; fill:none\" points=\"\n",
       "  1254,147.058 1401.02,147.058 \n",
       "  \"/>\n",
       "<path clip-path=\"url(#clip020)\" d=\"M1426.19 160.402 L1433.83 160.402 L1433.83 134.037 L1425.52 135.703 L1425.52 131.444 L1433.79 129.778 L1438.46 129.778 L1438.46 160.402 L1446.1 160.402 L1446.1 164.338 L1426.19 164.338 L1426.19 160.402 Z\" fill=\"#000000\" fill-rule=\"evenodd\" fill-opacity=\"1\" /><path clip-path=\"url(#clip020)\" d=\"M1465.55 132.856 Q1461.93 132.856 1460.11 136.421 Q1458.3 139.963 1458.3 147.092 Q1458.3 154.199 1460.11 157.764 Q1461.93 161.305 1465.55 161.305 Q1469.18 161.305 1470.99 157.764 Q1472.81 154.199 1472.81 147.092 Q1472.81 139.963 1470.99 136.421 Q1469.18 132.856 1465.55 132.856 M1465.55 129.153 Q1471.36 129.153 1474.41 133.759 Q1477.49 138.342 1477.49 147.092 Q1477.49 155.819 1474.41 160.426 Q1471.36 165.009 1465.55 165.009 Q1459.74 165.009 1456.66 160.426 Q1453.6 155.819 1453.6 147.092 Q1453.6 138.342 1456.66 133.759 Q1459.74 129.153 1465.55 129.153 Z\" fill=\"#000000\" fill-rule=\"evenodd\" fill-opacity=\"1\" /><path clip-path=\"url(#clip020)\" d=\"M1517.24 142.347 L1517.24 128.319 L1521.49 128.319 L1521.49 164.338 L1517.24 164.338 L1517.24 160.449 Q1515.89 162.763 1513.83 163.898 Q1511.8 165.009 1508.92 165.009 Q1504.23 165.009 1501.26 161.259 Q1498.32 157.509 1498.32 151.398 Q1498.32 145.287 1501.26 141.537 Q1504.23 137.787 1508.92 137.787 Q1511.8 137.787 1513.83 138.921 Q1515.89 140.032 1517.24 142.347 M1502.72 151.398 Q1502.72 156.097 1504.64 158.782 Q1506.59 161.444 1509.97 161.444 Q1513.35 161.444 1515.29 158.782 Q1517.24 156.097 1517.24 151.398 Q1517.24 146.699 1515.29 144.037 Q1513.35 141.352 1509.97 141.352 Q1506.59 141.352 1504.64 144.037 Q1502.72 146.699 1502.72 151.398 Z\" fill=\"#000000\" fill-rule=\"evenodd\" fill-opacity=\"1\" /><path clip-path=\"url(#clip020)\" d=\"M1542.05 151.305 Q1536.89 151.305 1534.9 152.486 Q1532.91 153.666 1532.91 156.514 Q1532.91 158.782 1534.39 160.125 Q1535.89 161.444 1538.46 161.444 Q1542 161.444 1544.13 158.944 Q1546.29 156.421 1546.29 152.254 L1546.29 151.305 L1542.05 151.305 M1550.55 149.546 L1550.55 164.338 L1546.29 164.338 L1546.29 160.402 Q1544.83 162.763 1542.65 163.898 Q1540.48 165.009 1537.33 165.009 Q1533.35 165.009 1530.98 162.787 Q1528.65 160.541 1528.65 156.791 Q1528.65 152.416 1531.56 150.194 Q1534.5 147.972 1540.31 147.972 L1546.29 147.972 L1546.29 147.555 Q1546.29 144.615 1544.34 143.018 Q1542.42 141.398 1538.92 141.398 Q1536.7 141.398 1534.6 141.93 Q1532.49 142.463 1530.55 143.527 L1530.55 139.592 Q1532.88 138.69 1535.08 138.25 Q1537.28 137.787 1539.36 137.787 Q1544.99 137.787 1547.77 140.703 Q1550.55 143.62 1550.55 149.546 Z\" fill=\"#000000\" fill-rule=\"evenodd\" fill-opacity=\"1\" /><path clip-path=\"url(#clip020)\" d=\"M1570.11 166.745 Q1568.3 171.375 1566.59 172.787 Q1564.87 174.199 1562 174.199 L1558.6 174.199 L1558.6 170.634 L1561.1 170.634 Q1562.86 170.634 1563.83 169.8 Q1564.8 168.967 1565.98 165.865 L1566.75 163.921 L1556.26 138.412 L1560.78 138.412 L1568.88 158.689 L1576.98 138.412 L1581.49 138.412 L1570.11 166.745 Z\" fill=\"#000000\" fill-rule=\"evenodd\" fill-opacity=\"1\" /><path clip-path=\"url(#clip020)\" d=\"M1618.97 139.176 L1618.97 143.203 Q1617.17 142.277 1615.22 141.815 Q1613.28 141.352 1611.19 141.352 Q1608.02 141.352 1606.42 142.324 Q1604.85 143.296 1604.85 145.24 Q1604.85 146.722 1605.98 147.578 Q1607.12 148.412 1610.54 149.176 L1612 149.5 Q1616.54 150.472 1618.44 152.254 Q1620.36 154.014 1620.36 157.185 Q1620.36 160.796 1617.49 162.902 Q1614.64 165.009 1609.64 165.009 Q1607.56 165.009 1605.29 164.592 Q1603.04 164.199 1600.54 163.388 L1600.54 158.99 Q1602.91 160.217 1605.2 160.842 Q1607.49 161.444 1609.73 161.444 Q1612.74 161.444 1614.36 160.426 Q1615.98 159.384 1615.98 157.509 Q1615.98 155.773 1614.8 154.847 Q1613.65 153.921 1609.69 153.064 L1608.21 152.717 Q1604.25 151.884 1602.49 150.171 Q1600.73 148.435 1600.73 145.426 Q1600.73 141.768 1603.32 139.778 Q1605.92 137.787 1610.68 137.787 Q1613.04 137.787 1615.13 138.134 Q1617.21 138.481 1618.97 139.176 Z\" fill=\"#000000\" fill-rule=\"evenodd\" fill-opacity=\"1\" /><path clip-path=\"url(#clip020)\" d=\"M1631.35 131.051 L1631.35 138.412 L1640.13 138.412 L1640.13 141.722 L1631.35 141.722 L1631.35 155.796 Q1631.35 158.967 1632.21 159.87 Q1633.09 160.773 1635.75 160.773 L1640.13 160.773 L1640.13 164.338 L1635.75 164.338 Q1630.82 164.338 1628.95 162.509 Q1627.07 160.657 1627.07 155.796 L1627.07 141.722 L1623.95 141.722 L1623.95 138.412 L1627.07 138.412 L1627.07 131.051 L1631.35 131.051 Z\" fill=\"#000000\" fill-rule=\"evenodd\" fill-opacity=\"1\" /><path clip-path=\"url(#clip020)\" d=\"M1645.57 128.319 L1649.85 128.319 L1649.85 149.592 L1662.56 138.412 L1668 138.412 L1654.25 150.541 L1668.58 164.338 L1663.02 164.338 L1649.85 151.676 L1649.85 164.338 L1645.57 164.338 L1645.57 128.319 Z\" fill=\"#000000\" fill-rule=\"evenodd\" fill-opacity=\"1\" /><path clip-path=\"url(#clip020)\" d=\"M1674.27 158.458 L1679.16 158.458 L1679.16 162.439 L1675.36 169.847 L1672.37 169.847 L1674.27 162.439 L1674.27 158.458 Z\" fill=\"#000000\" fill-rule=\"evenodd\" fill-opacity=\"1\" /><path clip-path=\"url(#clip020)\" d=\"M1703.51 129.778 L1708.18 129.778 L1708.18 143.944 L1725.17 143.944 L1725.17 129.778 L1729.85 129.778 L1729.85 164.338 L1725.17 164.338 L1725.17 147.879 L1708.18 147.879 L1708.18 164.338 L1703.51 164.338 L1703.51 129.778 Z\" fill=\"#000000\" fill-rule=\"evenodd\" fill-opacity=\"1\" /><path clip-path=\"url(#clip020)\" d=\"M1734.41 129.778 L1739.43 129.778 L1749.02 143.99 L1758.53 129.778 L1763.55 129.778 L1751.33 147.879 L1751.33 164.338 L1746.63 164.338 L1746.63 147.879 L1734.41 129.778 Z\" fill=\"#000000\" fill-rule=\"evenodd\" fill-opacity=\"1\" /><path clip-path=\"url(#clip020)\" d=\"M1788.83 130.912 L1788.83 135.472 Q1786.17 134.199 1783.81 133.574 Q1781.45 132.949 1779.25 132.949 Q1775.43 132.949 1773.34 134.43 Q1771.28 135.912 1771.28 138.643 Q1771.28 140.935 1772.65 142.115 Q1774.04 143.273 1777.88 143.99 L1780.71 144.569 Q1785.94 145.565 1788.41 148.088 Q1790.91 150.588 1790.91 154.801 Q1790.91 159.824 1787.53 162.416 Q1784.18 165.009 1777.67 165.009 Q1775.22 165.009 1772.44 164.453 Q1769.69 163.898 1766.72 162.81 L1766.72 157.995 Q1769.57 159.592 1772.3 160.402 Q1775.03 161.213 1777.67 161.213 Q1781.68 161.213 1783.85 159.639 Q1786.03 158.064 1786.03 155.148 Q1786.03 152.602 1784.46 151.166 Q1782.9 149.731 1779.34 149.014 L1776.49 148.458 Q1771.26 147.416 1768.92 145.194 Q1766.59 142.972 1766.59 139.014 Q1766.59 134.43 1769.8 131.791 Q1773.04 129.153 1778.72 129.153 Q1781.15 129.153 1783.67 129.592 Q1786.19 130.032 1788.83 130.912 Z\" fill=\"#000000\" fill-rule=\"evenodd\" fill-opacity=\"1\" /><path clip-path=\"url(#clip020)\" d=\"M1799.43 160.402 L1807.07 160.402 L1807.07 134.037 L1798.76 135.703 L1798.76 131.444 L1807.03 129.778 L1811.7 129.778 L1811.7 160.402 L1819.34 160.402 L1819.34 164.338 L1799.43 164.338 L1799.43 160.402 Z\" fill=\"#000000\" fill-rule=\"evenodd\" fill-opacity=\"1\" /><path clip-path=\"url(#clip020)\" d=\"M1841.63 133.852 L1829.83 152.301 L1841.63 152.301 L1841.63 133.852 M1840.4 129.778 L1846.28 129.778 L1846.28 152.301 L1851.21 152.301 L1851.21 156.189 L1846.28 156.189 L1846.28 164.338 L1841.63 164.338 L1841.63 156.189 L1826.03 156.189 L1826.03 151.676 L1840.4 129.778 Z\" fill=\"#000000\" fill-rule=\"evenodd\" fill-opacity=\"1\" /><path clip-path=\"url(#clip020)\" d=\"M1856.54 129.778 L1883.69 129.778 L1883.69 133.342 L1861.84 160.402 L1884.22 160.402 L1884.22 164.338 L1856.01 164.338 L1856.01 160.773 L1877.86 133.713 L1856.54 133.713 L1856.54 129.778 Z\" fill=\"#000000\" fill-rule=\"evenodd\" fill-opacity=\"1\" /><path clip-path=\"url(#clip020)\" d=\"M1891.01 129.778 L1897.3 129.778 L1912.63 158.689 L1912.63 129.778 L1917.16 129.778 L1917.16 164.338 L1910.87 164.338 L1895.54 135.426 L1895.54 164.338 L1891.01 164.338 L1891.01 129.778 Z\" fill=\"#000000\" fill-rule=\"evenodd\" fill-opacity=\"1\" /><path clip-path=\"url(#clip020)\" d=\"M1957.88 139.176 L1957.88 143.203 Q1956.08 142.277 1954.13 141.815 Q1952.19 141.352 1950.1 141.352 Q1946.93 141.352 1945.33 142.324 Q1943.76 143.296 1943.76 145.24 Q1943.76 146.722 1944.89 147.578 Q1946.03 148.412 1949.45 149.176 L1950.91 149.5 Q1955.45 150.472 1957.35 152.254 Q1959.27 154.014 1959.27 157.185 Q1959.27 160.796 1956.4 162.902 Q1953.55 165.009 1948.55 165.009 Q1946.47 165.009 1944.2 164.592 Q1941.95 164.199 1939.45 163.388 L1939.45 158.99 Q1941.82 160.217 1944.11 160.842 Q1946.4 161.444 1948.64 161.444 Q1951.65 161.444 1953.27 160.426 Q1954.89 159.384 1954.89 157.509 Q1954.89 155.773 1953.71 154.847 Q1952.56 153.921 1948.6 153.064 L1947.12 152.717 Q1943.16 151.884 1941.4 150.171 Q1939.64 148.435 1939.64 145.426 Q1939.64 141.768 1942.23 139.778 Q1944.83 137.787 1949.59 137.787 Q1951.95 137.787 1954.04 138.134 Q1956.12 138.481 1957.88 139.176 Z\" fill=\"#000000\" fill-rule=\"evenodd\" fill-opacity=\"1\" /><path clip-path=\"url(#clip020)\" d=\"M1970.27 131.051 L1970.27 138.412 L1979.04 138.412 L1979.04 141.722 L1970.27 141.722 L1970.27 155.796 Q1970.27 158.967 1971.12 159.87 Q1972 160.773 1974.66 160.773 L1979.04 160.773 L1979.04 164.338 L1974.66 164.338 Q1969.73 164.338 1967.86 162.509 Q1965.98 160.657 1965.98 155.796 L1965.98 141.722 L1962.86 141.722 L1962.86 138.412 L1965.98 138.412 L1965.98 131.051 L1970.27 131.051 Z\" fill=\"#000000\" fill-rule=\"evenodd\" fill-opacity=\"1\" /><path clip-path=\"url(#clip020)\" d=\"M1996.42 151.305 Q1991.26 151.305 1989.27 152.486 Q1987.28 153.666 1987.28 156.514 Q1987.28 158.782 1988.76 160.125 Q1990.26 161.444 1992.83 161.444 Q1996.38 161.444 1998.51 158.944 Q2000.66 156.421 2000.66 152.254 L2000.66 151.305 L1996.42 151.305 M2004.92 149.546 L2004.92 164.338 L2000.66 164.338 L2000.66 160.402 Q1999.2 162.763 1997.02 163.898 Q1994.85 165.009 1991.7 165.009 Q1987.72 165.009 1985.36 162.787 Q1983.02 160.541 1983.02 156.791 Q1983.02 152.416 1985.94 150.194 Q1988.88 147.972 1994.69 147.972 L2000.66 147.972 L2000.66 147.555 Q2000.66 144.615 1998.71 143.018 Q1996.79 141.398 1993.3 141.398 Q1991.08 141.398 1988.97 141.93 Q1986.86 142.463 1984.92 143.527 L1984.92 139.592 Q1987.26 138.69 1989.45 138.25 Q1991.65 137.787 1993.74 137.787 Q1999.36 137.787 2002.14 140.703 Q2004.92 143.62 2004.92 149.546 Z\" fill=\"#000000\" fill-rule=\"evenodd\" fill-opacity=\"1\" /><path clip-path=\"url(#clip020)\" d=\"M2032.35 139.407 L2032.35 143.389 Q2030.54 142.393 2028.71 141.907 Q2026.91 141.398 2025.06 141.398 Q2020.91 141.398 2018.62 144.037 Q2016.33 146.652 2016.33 151.398 Q2016.33 156.143 2018.62 158.782 Q2020.91 161.398 2025.06 161.398 Q2026.91 161.398 2028.71 160.912 Q2030.54 160.402 2032.35 159.407 L2032.35 163.342 Q2030.57 164.176 2028.64 164.592 Q2026.75 165.009 2024.59 165.009 Q2018.74 165.009 2015.29 161.328 Q2011.84 157.648 2011.84 151.398 Q2011.84 145.055 2015.31 141.421 Q2018.81 137.787 2024.87 137.787 Q2026.84 137.787 2028.71 138.203 Q2030.59 138.597 2032.35 139.407 Z\" fill=\"#000000\" fill-rule=\"evenodd\" fill-opacity=\"1\" /><path clip-path=\"url(#clip020)\" d=\"M2039.59 128.319 L2043.88 128.319 L2043.88 149.592 L2056.58 138.412 L2062.02 138.412 L2048.27 150.541 L2062.6 164.338 L2057.05 164.338 L2043.88 151.676 L2043.88 164.338 L2039.59 164.338 L2039.59 128.319 Z\" fill=\"#000000\" fill-rule=\"evenodd\" fill-opacity=\"1\" /><path clip-path=\"url(#clip020)\" d=\"M2099.34 142.347 L2099.34 128.319 L2103.6 128.319 L2103.6 164.338 L2099.34 164.338 L2099.34 160.449 Q2098 162.763 2095.94 163.898 Q2093.9 165.009 2091.03 165.009 Q2086.33 165.009 2083.37 161.259 Q2080.43 157.509 2080.43 151.398 Q2080.43 145.287 2083.37 141.537 Q2086.33 137.787 2091.03 137.787 Q2093.9 137.787 2095.94 138.921 Q2098 140.032 2099.34 142.347 M2084.82 151.398 Q2084.82 156.097 2086.75 158.782 Q2088.69 161.444 2092.07 161.444 Q2095.45 161.444 2097.39 158.782 Q2099.34 156.097 2099.34 151.398 Q2099.34 146.699 2097.39 144.037 Q2095.45 141.352 2092.07 141.352 Q2088.69 141.352 2086.75 144.037 Q2084.82 146.699 2084.82 151.398 Z\" fill=\"#000000\" fill-rule=\"evenodd\" fill-opacity=\"1\" /><path clip-path=\"url(#clip020)\" d=\"M2109.32 138.412 L2113.83 138.412 L2121.93 160.171 L2130.03 138.412 L2134.55 138.412 L2124.82 164.338 L2119.04 164.338 L2109.32 138.412 Z\" fill=\"#000000\" fill-rule=\"evenodd\" fill-opacity=\"1\" /><path clip-path=\"url(#clip020)\" d=\"M2148 129.778 L2151.93 129.778 L2139.89 168.736 L2135.96 168.736 L2148 129.778 Z\" fill=\"#000000\" fill-rule=\"evenodd\" fill-opacity=\"1\" /><path clip-path=\"url(#clip020)\" d=\"M2153.34 138.412 L2157.86 138.412 L2165.96 160.171 L2174.06 138.412 L2178.57 138.412 L2168.85 164.338 L2163.06 164.338 L2153.34 138.412 Z\" fill=\"#000000\" fill-rule=\"evenodd\" fill-opacity=\"1\" /><polyline clip-path=\"url(#clip020)\" style=\"stroke:#e26f46; stroke-linecap:butt; stroke-linejoin:round; stroke-width:4; stroke-opacity:1; fill:none\" points=\"\n",
       "  1254,198.898 1401.02,198.898 \n",
       "  \"/>\n",
       "<path clip-path=\"url(#clip020)\" d=\"M1426.19 212.242 L1433.83 212.242 L1433.83 185.877 L1425.52 187.543 L1425.52 183.284 L1433.79 181.618 L1438.46 181.618 L1438.46 212.242 L1446.1 212.242 L1446.1 216.178 L1426.19 216.178 L1426.19 212.242 Z\" fill=\"#000000\" fill-rule=\"evenodd\" fill-opacity=\"1\" /><path clip-path=\"url(#clip020)\" d=\"M1465.55 184.696 Q1461.93 184.696 1460.11 188.261 Q1458.3 191.803 1458.3 198.932 Q1458.3 206.039 1460.11 209.604 Q1461.93 213.145 1465.55 213.145 Q1469.18 213.145 1470.99 209.604 Q1472.81 206.039 1472.81 198.932 Q1472.81 191.803 1470.99 188.261 Q1469.18 184.696 1465.55 184.696 M1465.55 180.993 Q1471.36 180.993 1474.41 185.599 Q1477.49 190.182 1477.49 198.932 Q1477.49 207.659 1474.41 212.266 Q1471.36 216.849 1465.55 216.849 Q1459.74 216.849 1456.66 212.266 Q1453.6 207.659 1453.6 198.932 Q1453.6 190.182 1456.66 185.599 Q1459.74 180.993 1465.55 180.993 Z\" fill=\"#000000\" fill-rule=\"evenodd\" fill-opacity=\"1\" /><path clip-path=\"url(#clip020)\" d=\"M1517.24 194.187 L1517.24 180.159 L1521.49 180.159 L1521.49 216.178 L1517.24 216.178 L1517.24 212.289 Q1515.89 214.603 1513.83 215.738 Q1511.8 216.849 1508.92 216.849 Q1504.23 216.849 1501.26 213.099 Q1498.32 209.349 1498.32 203.238 Q1498.32 197.127 1501.26 193.377 Q1504.23 189.627 1508.92 189.627 Q1511.8 189.627 1513.83 190.761 Q1515.89 191.872 1517.24 194.187 M1502.72 203.238 Q1502.72 207.937 1504.64 210.622 Q1506.59 213.284 1509.97 213.284 Q1513.35 213.284 1515.29 210.622 Q1517.24 207.937 1517.24 203.238 Q1517.24 198.539 1515.29 195.877 Q1513.35 193.192 1509.97 193.192 Q1506.59 193.192 1504.64 195.877 Q1502.72 198.539 1502.72 203.238 Z\" fill=\"#000000\" fill-rule=\"evenodd\" fill-opacity=\"1\" /><path clip-path=\"url(#clip020)\" d=\"M1542.05 203.145 Q1536.89 203.145 1534.9 204.326 Q1532.91 205.506 1532.91 208.354 Q1532.91 210.622 1534.39 211.965 Q1535.89 213.284 1538.46 213.284 Q1542 213.284 1544.13 210.784 Q1546.29 208.261 1546.29 204.094 L1546.29 203.145 L1542.05 203.145 M1550.55 201.386 L1550.55 216.178 L1546.29 216.178 L1546.29 212.242 Q1544.83 214.603 1542.65 215.738 Q1540.48 216.849 1537.33 216.849 Q1533.35 216.849 1530.98 214.627 Q1528.65 212.381 1528.65 208.631 Q1528.65 204.256 1531.56 202.034 Q1534.5 199.812 1540.31 199.812 L1546.29 199.812 L1546.29 199.395 Q1546.29 196.455 1544.34 194.858 Q1542.42 193.238 1538.92 193.238 Q1536.7 193.238 1534.6 193.77 Q1532.49 194.303 1530.55 195.367 L1530.55 191.432 Q1532.88 190.53 1535.08 190.09 Q1537.28 189.627 1539.36 189.627 Q1544.99 189.627 1547.77 192.543 Q1550.55 195.46 1550.55 201.386 Z\" fill=\"#000000\" fill-rule=\"evenodd\" fill-opacity=\"1\" /><path clip-path=\"url(#clip020)\" d=\"M1570.11 218.585 Q1568.3 223.215 1566.59 224.627 Q1564.87 226.039 1562 226.039 L1558.6 226.039 L1558.6 222.474 L1561.1 222.474 Q1562.86 222.474 1563.83 221.64 Q1564.8 220.807 1565.98 217.705 L1566.75 215.761 L1556.26 190.252 L1560.78 190.252 L1568.88 210.529 L1576.98 190.252 L1581.49 190.252 L1570.11 218.585 Z\" fill=\"#000000\" fill-rule=\"evenodd\" fill-opacity=\"1\" /><path clip-path=\"url(#clip020)\" d=\"M1618.97 191.016 L1618.97 195.043 Q1617.17 194.117 1615.22 193.655 Q1613.28 193.192 1611.19 193.192 Q1608.02 193.192 1606.42 194.164 Q1604.85 195.136 1604.85 197.08 Q1604.85 198.562 1605.98 199.418 Q1607.12 200.252 1610.54 201.016 L1612 201.34 Q1616.54 202.312 1618.44 204.094 Q1620.36 205.854 1620.36 209.025 Q1620.36 212.636 1617.49 214.742 Q1614.64 216.849 1609.64 216.849 Q1607.56 216.849 1605.29 216.432 Q1603.04 216.039 1600.54 215.228 L1600.54 210.83 Q1602.91 212.057 1605.2 212.682 Q1607.49 213.284 1609.73 213.284 Q1612.74 213.284 1614.36 212.266 Q1615.98 211.224 1615.98 209.349 Q1615.98 207.613 1614.8 206.687 Q1613.65 205.761 1609.69 204.904 L1608.21 204.557 Q1604.25 203.724 1602.49 202.011 Q1600.73 200.275 1600.73 197.266 Q1600.73 193.608 1603.32 191.618 Q1605.92 189.627 1610.68 189.627 Q1613.04 189.627 1615.13 189.974 Q1617.21 190.321 1618.97 191.016 Z\" fill=\"#000000\" fill-rule=\"evenodd\" fill-opacity=\"1\" /><path clip-path=\"url(#clip020)\" d=\"M1631.35 182.891 L1631.35 190.252 L1640.13 190.252 L1640.13 193.562 L1631.35 193.562 L1631.35 207.636 Q1631.35 210.807 1632.21 211.71 Q1633.09 212.613 1635.75 212.613 L1640.13 212.613 L1640.13 216.178 L1635.75 216.178 Q1630.82 216.178 1628.95 214.349 Q1627.07 212.497 1627.07 207.636 L1627.07 193.562 L1623.95 193.562 L1623.95 190.252 L1627.07 190.252 L1627.07 182.891 L1631.35 182.891 Z\" fill=\"#000000\" fill-rule=\"evenodd\" fill-opacity=\"1\" /><path clip-path=\"url(#clip020)\" d=\"M1645.57 180.159 L1649.85 180.159 L1649.85 201.432 L1662.56 190.252 L1668 190.252 L1654.25 202.381 L1668.58 216.178 L1663.02 216.178 L1649.85 203.516 L1649.85 216.178 L1645.57 216.178 L1645.57 180.159 Z\" fill=\"#000000\" fill-rule=\"evenodd\" fill-opacity=\"1\" /><path clip-path=\"url(#clip020)\" d=\"M1674.27 210.298 L1679.16 210.298 L1679.16 214.279 L1675.36 221.687 L1672.37 221.687 L1674.27 214.279 L1674.27 210.298 Z\" fill=\"#000000\" fill-rule=\"evenodd\" fill-opacity=\"1\" /><path clip-path=\"url(#clip020)\" d=\"M1703.51 181.618 L1708.18 181.618 L1708.18 195.784 L1725.17 195.784 L1725.17 181.618 L1729.85 181.618 L1729.85 216.178 L1725.17 216.178 L1725.17 199.719 L1708.18 199.719 L1708.18 216.178 L1703.51 216.178 L1703.51 181.618 Z\" fill=\"#000000\" fill-rule=\"evenodd\" fill-opacity=\"1\" /><path clip-path=\"url(#clip020)\" d=\"M1734.41 181.618 L1739.43 181.618 L1749.02 195.83 L1758.53 181.618 L1763.55 181.618 L1751.33 199.719 L1751.33 216.178 L1746.63 216.178 L1746.63 199.719 L1734.41 181.618 Z\" fill=\"#000000\" fill-rule=\"evenodd\" fill-opacity=\"1\" /><path clip-path=\"url(#clip020)\" d=\"M1788.83 182.752 L1788.83 187.312 Q1786.17 186.039 1783.81 185.414 Q1781.45 184.789 1779.25 184.789 Q1775.43 184.789 1773.34 186.27 Q1771.28 187.752 1771.28 190.483 Q1771.28 192.775 1772.65 193.955 Q1774.04 195.113 1777.88 195.83 L1780.71 196.409 Q1785.94 197.405 1788.41 199.928 Q1790.91 202.428 1790.91 206.641 Q1790.91 211.664 1787.53 214.256 Q1784.18 216.849 1777.67 216.849 Q1775.22 216.849 1772.44 216.293 Q1769.69 215.738 1766.72 214.65 L1766.72 209.835 Q1769.57 211.432 1772.3 212.242 Q1775.03 213.053 1777.67 213.053 Q1781.68 213.053 1783.85 211.479 Q1786.03 209.904 1786.03 206.988 Q1786.03 204.442 1784.46 203.006 Q1782.9 201.571 1779.34 200.854 L1776.49 200.298 Q1771.26 199.256 1768.92 197.034 Q1766.59 194.812 1766.59 190.854 Q1766.59 186.27 1769.8 183.631 Q1773.04 180.993 1778.72 180.993 Q1781.15 180.993 1783.67 181.432 Q1786.19 181.872 1788.83 182.752 Z\" fill=\"#000000\" fill-rule=\"evenodd\" fill-opacity=\"1\" /><path clip-path=\"url(#clip020)\" d=\"M1799.43 212.242 L1807.07 212.242 L1807.07 185.877 L1798.76 187.543 L1798.76 183.284 L1807.03 181.618 L1811.7 181.618 L1811.7 212.242 L1819.34 212.242 L1819.34 216.178 L1799.43 216.178 L1799.43 212.242 Z\" fill=\"#000000\" fill-rule=\"evenodd\" fill-opacity=\"1\" /><path clip-path=\"url(#clip020)\" d=\"M1841.63 185.692 L1829.83 204.141 L1841.63 204.141 L1841.63 185.692 M1840.4 181.618 L1846.28 181.618 L1846.28 204.141 L1851.21 204.141 L1851.21 208.029 L1846.28 208.029 L1846.28 216.178 L1841.63 216.178 L1841.63 208.029 L1826.03 208.029 L1826.03 203.516 L1840.4 181.618 Z\" fill=\"#000000\" fill-rule=\"evenodd\" fill-opacity=\"1\" /><path clip-path=\"url(#clip020)\" d=\"M1856.54 181.618 L1883.69 181.618 L1883.69 185.182 L1861.84 212.242 L1884.22 212.242 L1884.22 216.178 L1856.01 216.178 L1856.01 212.613 L1877.86 185.553 L1856.54 185.553 L1856.54 181.618 Z\" fill=\"#000000\" fill-rule=\"evenodd\" fill-opacity=\"1\" /><path clip-path=\"url(#clip020)\" d=\"M1891.01 181.618 L1897.3 181.618 L1912.63 210.529 L1912.63 181.618 L1917.16 181.618 L1917.16 216.178 L1910.87 216.178 L1895.54 187.266 L1895.54 216.178 L1891.01 216.178 L1891.01 181.618 Z\" fill=\"#000000\" fill-rule=\"evenodd\" fill-opacity=\"1\" /><path clip-path=\"url(#clip020)\" d=\"M1957.88 191.016 L1957.88 195.043 Q1956.08 194.117 1954.13 193.655 Q1952.19 193.192 1950.1 193.192 Q1946.93 193.192 1945.33 194.164 Q1943.76 195.136 1943.76 197.08 Q1943.76 198.562 1944.89 199.418 Q1946.03 200.252 1949.45 201.016 L1950.91 201.34 Q1955.45 202.312 1957.35 204.094 Q1959.27 205.854 1959.27 209.025 Q1959.27 212.636 1956.4 214.742 Q1953.55 216.849 1948.55 216.849 Q1946.47 216.849 1944.2 216.432 Q1941.95 216.039 1939.45 215.228 L1939.45 210.83 Q1941.82 212.057 1944.11 212.682 Q1946.4 213.284 1948.64 213.284 Q1951.65 213.284 1953.27 212.266 Q1954.89 211.224 1954.89 209.349 Q1954.89 207.613 1953.71 206.687 Q1952.56 205.761 1948.6 204.904 L1947.12 204.557 Q1943.16 203.724 1941.4 202.011 Q1939.64 200.275 1939.64 197.266 Q1939.64 193.608 1942.23 191.618 Q1944.83 189.627 1949.59 189.627 Q1951.95 189.627 1954.04 189.974 Q1956.12 190.321 1957.88 191.016 Z\" fill=\"#000000\" fill-rule=\"evenodd\" fill-opacity=\"1\" /><path clip-path=\"url(#clip020)\" d=\"M1986.24 195.229 Q1987.83 192.358 1990.06 190.993 Q1992.28 189.627 1995.29 189.627 Q1999.34 189.627 2001.54 192.474 Q2003.74 195.298 2003.74 200.529 L2003.74 216.178 L1999.45 216.178 L1999.45 200.668 Q1999.45 196.942 1998.14 195.136 Q1996.82 193.33 1994.11 193.33 Q1990.8 193.33 1988.88 195.53 Q1986.95 197.729 1986.95 201.525 L1986.95 216.178 L1982.67 216.178 L1982.67 200.668 Q1982.67 196.918 1981.35 195.136 Q1980.03 193.33 1977.28 193.33 Q1974.01 193.33 1972.09 195.553 Q1970.17 197.752 1970.17 201.525 L1970.17 216.178 L1965.89 216.178 L1965.89 190.252 L1970.17 190.252 L1970.17 194.28 Q1971.63 191.895 1973.67 190.761 Q1975.7 189.627 1978.51 189.627 Q1981.33 189.627 1983.3 191.062 Q1985.29 192.497 1986.24 195.229 Z\" fill=\"#000000\" fill-rule=\"evenodd\" fill-opacity=\"1\" /><path clip-path=\"url(#clip020)\" d=\"M2022.28 193.238 Q2018.85 193.238 2016.86 195.923 Q2014.87 198.585 2014.87 203.238 Q2014.87 207.891 2016.84 210.576 Q2018.83 213.238 2022.28 213.238 Q2025.68 213.238 2027.67 210.553 Q2029.66 207.867 2029.66 203.238 Q2029.66 198.631 2027.67 195.946 Q2025.68 193.238 2022.28 193.238 M2022.28 189.627 Q2027.83 189.627 2031.01 193.238 Q2034.18 196.849 2034.18 203.238 Q2034.18 209.604 2031.01 213.238 Q2027.83 216.849 2022.28 216.849 Q2016.7 216.849 2013.53 213.238 Q2010.38 209.604 2010.38 203.238 Q2010.38 196.849 2013.53 193.238 Q2016.7 189.627 2022.28 189.627 Z\" fill=\"#000000\" fill-rule=\"evenodd\" fill-opacity=\"1\" /><path clip-path=\"url(#clip020)\" d=\"M2051.28 193.238 Q2047.86 193.238 2045.87 195.923 Q2043.88 198.585 2043.88 203.238 Q2043.88 207.891 2045.84 210.576 Q2047.83 213.238 2051.28 213.238 Q2054.69 213.238 2056.68 210.553 Q2058.67 207.867 2058.67 203.238 Q2058.67 198.631 2056.68 195.946 Q2054.69 193.238 2051.28 193.238 M2051.28 189.627 Q2056.84 189.627 2060.01 193.238 Q2063.18 196.849 2063.18 203.238 Q2063.18 209.604 2060.01 213.238 Q2056.84 216.849 2051.28 216.849 Q2045.7 216.849 2042.53 213.238 Q2039.39 209.604 2039.39 203.238 Q2039.39 196.849 2042.53 193.238 Q2045.7 189.627 2051.28 189.627 Z\" fill=\"#000000\" fill-rule=\"evenodd\" fill-opacity=\"1\" /><path clip-path=\"url(#clip020)\" d=\"M2074.45 182.891 L2074.45 190.252 L2083.23 190.252 L2083.23 193.562 L2074.45 193.562 L2074.45 207.636 Q2074.45 210.807 2075.31 211.71 Q2076.19 212.613 2078.85 212.613 L2083.23 212.613 L2083.23 216.178 L2078.85 216.178 Q2073.92 216.178 2072.05 214.349 Q2070.17 212.497 2070.17 207.636 L2070.17 193.562 L2067.05 193.562 L2067.05 190.252 L2070.17 190.252 L2070.17 182.891 L2074.45 182.891 Z\" fill=\"#000000\" fill-rule=\"evenodd\" fill-opacity=\"1\" /><path clip-path=\"url(#clip020)\" d=\"M2110.38 200.529 L2110.38 216.178 L2106.12 216.178 L2106.12 200.668 Q2106.12 196.988 2104.69 195.159 Q2103.25 193.33 2100.38 193.33 Q2096.93 193.33 2094.94 195.53 Q2092.95 197.729 2092.95 201.525 L2092.95 216.178 L2088.67 216.178 L2088.67 180.159 L2092.95 180.159 L2092.95 194.28 Q2094.48 191.942 2096.54 190.784 Q2098.62 189.627 2101.33 189.627 Q2105.8 189.627 2108.09 192.405 Q2110.38 195.159 2110.38 200.529 Z\" fill=\"#000000\" fill-rule=\"evenodd\" fill-opacity=\"1\" /><path clip-path=\"url(#clip020)\" d=\"M2151 194.187 L2151 180.159 L2155.26 180.159 L2155.26 216.178 L2151 216.178 L2151 212.289 Q2149.66 214.603 2147.6 215.738 Q2145.56 216.849 2142.69 216.849 Q2138 216.849 2135.03 213.099 Q2132.09 209.349 2132.09 203.238 Q2132.09 197.127 2135.03 193.377 Q2138 189.627 2142.69 189.627 Q2145.56 189.627 2147.6 190.761 Q2149.66 191.872 2151 194.187 M2136.49 203.238 Q2136.49 207.937 2138.41 210.622 Q2140.36 213.284 2143.74 213.284 Q2147.12 213.284 2149.06 210.622 Q2151 207.937 2151 203.238 Q2151 198.539 2149.06 195.877 Q2147.12 193.192 2143.74 193.192 Q2140.36 193.192 2138.41 195.877 Q2136.49 198.539 2136.49 203.238 Z\" fill=\"#000000\" fill-rule=\"evenodd\" fill-opacity=\"1\" /><path clip-path=\"url(#clip020)\" d=\"M2160.98 190.252 L2165.5 190.252 L2173.6 212.011 L2181.7 190.252 L2186.21 190.252 L2176.49 216.178 L2170.7 216.178 L2160.98 190.252 Z\" fill=\"#000000\" fill-rule=\"evenodd\" fill-opacity=\"1\" /><path clip-path=\"url(#clip020)\" d=\"M2199.66 181.618 L2203.6 181.618 L2191.56 220.576 L2187.62 220.576 L2199.66 181.618 Z\" fill=\"#000000\" fill-rule=\"evenodd\" fill-opacity=\"1\" /><path clip-path=\"url(#clip020)\" d=\"M2205.01 190.252 L2209.52 190.252 L2217.62 212.011 L2225.73 190.252 L2230.24 190.252 L2220.52 216.178 L2214.73 216.178 L2205.01 190.252 Z\" fill=\"#000000\" fill-rule=\"evenodd\" fill-opacity=\"1\" /></svg>\n"
      ]
     },
     "execution_count": 4,
     "metadata": {},
     "output_type": "execute_result"
    }
   ],
   "source": [
    "using Dates\n",
    "\n",
    "r=map(unix2datetime,dailystk.t)\n",
    "\n",
    "plot(r,dvt,seriestype = :line, ylim =[-2,2],label = \"10 day stk, HYS14ZN stack dv/v\")\n",
    "plot!(r, smooth(dvt,15),label=\"10 day stk, HYS14ZN smooth dv/v\")"
   ]
  },
  {
   "cell_type": "code",
   "execution_count": null,
   "id": "5bbac2f0",
   "metadata": {},
   "outputs": [],
   "source": [
    "#using MarketTechnicals\n",
    "#a=sma(dvt, 30)\n",
    "plot(smooth(dvt,15),ylim =[-1,1], label = \"60 to 100\" )"
   ]
  },
  {
   "cell_type": "code",
   "execution_count": null,
   "id": "e22e085a",
   "metadata": {},
   "outputs": [],
   "source": [
    "dvt"
   ]
  },
  {
   "cell_type": "code",
   "execution_count": null,
   "id": "e1b5dd08",
   "metadata": {},
   "outputs": [],
   "source": [
    "using MarketTechnicals\n",
    "a=sma(dvt, 10)\n",
    "plot(a, ylim=[-0.1,0.1])"
   ]
  },
  {
   "cell_type": "code",
   "execution_count": null,
   "id": "cecebbf3",
   "metadata": {},
   "outputs": [],
   "source": []
  }
 ],
 "metadata": {
  "kernelspec": {
   "display_name": "julia (SHARED)",
   "language": "julia",
   "name": "julia-1.6"
  },
  "language_info": {
   "file_extension": ".jl",
   "mimetype": "application/julia",
   "name": "julia",
   "version": "1.6.7"
  }
 },
 "nbformat": 4,
 "nbformat_minor": 5
}
