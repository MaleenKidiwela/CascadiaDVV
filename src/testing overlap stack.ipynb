{
 "cells": [
  {
   "cell_type": "code",
   "execution_count": 1,
   "id": "6d64c7ce",
   "metadata": {},
   "outputs": [
    {
     "data": {
      "text/plain": [
       "CorrData with 389939 Corrs\n",
       "      NAME: \"OO.HYSB1..BHZ.OO.HYSB1..BHE\"      \n",
       "        ID: \"2014-11-04\"                       \n",
       "       LOC: 0.0 N, 0.0 E, 0.0 m\n",
       "      COMP: \"ZE\"                               \n",
       "   ROTATED: false                              \n",
       " CORR_TYPE: \"CC\"                               \n",
       "        FS: 40.0\n",
       "      GAIN: 1.0\n",
       "   FREQMIN: 0.01\n",
       "   FREQMAX: 16.0\n",
       "    CC_LEN: 1800.0\n",
       "   CC_STEP: 450.0\n",
       "  WHITENED: true                               \n",
       " TIME_NORM: \"\"                                 \n",
       "      RESP: a0 1.0, f0 1.0, 1z, 1p\n",
       "      MISC: 0 entries                          \n",
       "     NOTES: 9 entries                          \n",
       "      DIST: 0.0\n",
       "       AZI: 0.0\n",
       "       BAZ: 0.0\n",
       "    MAXLAG: 100.0\n",
       "         T: 2014-11-04T20:22:30                …\n",
       "      CORR: 8001×389939 Matrix{Float32}        \n"
      ]
     },
     "execution_count": 1,
     "metadata": {},
     "output_type": "execute_result"
    }
   ],
   "source": [
    "using SeisNoise, SeisIO, Plots\n",
    "using Dates \n",
    "using Plots\n",
    "using SeisDvv\n",
    "using CSV\n",
    "using Statistics\n",
    "using LinearAlgebra\n",
    "\n",
    "d = load_corr(\"/data/wsd02/maleen_data/C_test/OO.HYSB1..BHZ.OO.HYSB1..BHE.jld2\", \"ZE\")"
   ]
  },
  {
   "cell_type": "code",
   "execution_count": 11,
   "id": "79e1a986",
   "metadata": {},
   "outputs": [
    {
     "data": {
      "text/plain": [
       "stack_moving_window (generic function with 1 method)"
      ]
     },
     "execution_count": 11,
     "metadata": {},
     "output_type": "execute_result"
    }
   ],
   "source": [
    "using Dates\n",
    "\n",
    "# Define the helper functions as previously described...\n",
    "\n",
    "function stack_moving_window(corr_data, window_size_days, overlap_days)\n",
    "    window_size = Day(window_size_days)\n",
    "    overlap = Day(overlap_days)\n",
    "\n",
    "    # Initialize a matrix for the stacked correlations and a vector for the start times\n",
    "    stacked_correlations_matrix = Array{Float32}(undef, 8001, 0)\n",
    "    stacked_start_times = Float64[]\n",
    "\n",
    "    current_start_date = unixtimestamp_to_datetime(first(corr_data.t))\n",
    "\n",
    "    while current_start_date <= unixtimestamp_to_datetime(last(corr_data.t))\n",
    "        current_end_date = current_start_date + window_size - Day(1)\n",
    "        indices = find_indices_in_window(corr_data.t, current_start_date, current_end_date)\n",
    "\n",
    "        if length(indices) > 0\n",
    "            window_data = deepcopy(corr_data)\n",
    "            window_data.corr = corr_data.corr[:, indices]\n",
    "            stacked_corr = stack(window_data, allstack=true).corr\n",
    "\n",
    "            # Append the stacked correlation as a new column\n",
    "            stacked_correlations_matrix = hcat(stacked_correlations_matrix, stacked_corr)\n",
    "\n",
    "            # Append the start time of the window\n",
    "            push!(stacked_start_times, datetime2unix(current_start_date))\n",
    "        end\n",
    "\n",
    "        current_start_date += overlap\n",
    "    end\n",
    "\n",
    "    # Create a new CorrData instance with the stacked data\n",
    "    new_corr_data = deepcopy(corr_data)\n",
    "    new_corr_data.corr = stacked_correlations_matrix\n",
    "    new_corr_data.t = stacked_start_times\n",
    "\n",
    "    return new_corr_data\n",
    "end\n",
    "\n",
    "# Test with a subset of your_corr_data for diagnostic purposes\n",
    "# ...\n",
    "\n",
    "new_corr_data = stack_moving_window(test_subset, 30, 15)\n"
   ]
  },
  {
   "cell_type": "code",
   "execution_count": 12,
   "id": "88ab4918",
   "metadata": {},
   "outputs": [
    {
     "ename": "LoadError",
     "evalue": "InterruptException:",
     "output_type": "error",
     "traceback": [
      "InterruptException:",
      "",
      "Stacktrace:",
      " [1] getindex(::Matrix{Float32}, ::Function, ::Vector{Int64})",
      "   @ Base ./abstractarray.jl:1215",
      " [2] stack_moving_window(corr_data::CorrData, window_size_days::Int64, overlap_days::Int64)",
      "   @ Main ./In[11]:23",
      " [3] top-level scope",
      "   @ In[12]:1",
      " [4] eval",
      "   @ ./boot.jl:373 [inlined]",
      " [5] include_string(mapexpr::typeof(REPL.softscope), mod::Module, code::String, filename::String)",
      "   @ Base ./loading.jl:1196"
     ]
    }
   ],
   "source": [
    "stacked_correlations_data = stack_moving_window(d, 30, 15)"
   ]
  },
  {
   "cell_type": "code",
   "execution_count": 45,
   "id": "2ee8d805",
   "metadata": {},
   "outputs": [
    {
     "data": {
      "text/plain": [
       "Float64[]"
      ]
     },
     "execution_count": 45,
     "metadata": {},
     "output_type": "execute_result"
    }
   ],
   "source": [
    "window_size = Day(30)\n",
    "overlap = Day(15)\n",
    "corr_data=deepcopy(d)\n",
    "\n",
    "# Initialize a matrix for the stacked correlations and a vector for the start times\n",
    "stacked_correlations_matrix = Array{Float32}(undef, 8001, 0)\n",
    "stacked_start_times = Float64[]\n",
    "\n",
    "current_start_date = unixtimestamp_to_datetime(first(corr_data.t))\n",
    "\n",
    "# Initialize a matrix for the stacked correlations and a vector for the start times\n",
    "stacked_correlations_matrix = Array{Float32}(undef, 8001, 0)\n",
    "stacked_start_times = Float64[]\n"
   ]
  },
  {
   "cell_type": "code",
   "execution_count": 47,
   "id": "12a6340f",
   "metadata": {},
   "outputs": [],
   "source": [
    "for i in 1:20\n",
    "    current_end_date = current_start_date + window_size - Day(1)\n",
    "    indices = find_indices_in_window(corr_data.t, current_start_date, current_end_date)\n",
    "\n",
    "    if length(indices) > 0\n",
    "        window_data = deepcopy(corr_data)\n",
    "        window_data.corr = corr_data.corr[:, indices]\n",
    "        stacked_corr = stack(window_data, allstack=true).corr\n",
    "\n",
    "        # Append the stacked correlation as a new column\n",
    "        stacked_correlations_matrix = hcat(stacked_correlations_matrix, stacked_corr)\n",
    "\n",
    "        # Append the start time of the window\n",
    "        push!(stacked_start_times, datetime2unix(current_start_date))\n",
    "    end\n",
    "\n",
    "    new_corr_data = deepcopy(corr_data)\n",
    "    new_corr_data.corr = stacked_correlations_matrix\n",
    "    new_corr_data.t = stacked_start_times\n",
    "\n",
    "    current_start_date += overlap\n",
    "end"
   ]
  },
  {
   "cell_type": "code",
   "execution_count": 44,
   "id": "8b0cd1b0",
   "metadata": {},
   "outputs": [
    {
     "data": {
      "text/plain": [
       "CorrData with 6 Corrs\n",
       "      NAME: \"OO.HYSB1..BHZ.OO.HYSB1..BHE\"      \n",
       "        ID: \"2014-11-04\"                       \n",
       "       LOC: 0.0 N, 0.0 E, 0.0 m\n",
       "      COMP: \"ZE\"                               \n",
       "   ROTATED: false                              \n",
       " CORR_TYPE: \"CC\"                               \n",
       "        FS: 40.0\n",
       "      GAIN: 1.0\n",
       "   FREQMIN: 0.01\n",
       "   FREQMAX: 16.0\n",
       "    CC_LEN: 1800.0\n",
       "   CC_STEP: 450.0\n",
       "  WHITENED: true                               \n",
       " TIME_NORM: \"\"                                 \n",
       "      RESP: a0 1.0, f0 1.0, 1z, 1p\n",
       "      MISC: 0 entries                          \n",
       "     NOTES: 9 entries                          \n",
       "      DIST: 0.0\n",
       "       AZI: 0.0\n",
       "       BAZ: 0.0\n",
       "    MAXLAG: 100.0\n",
       "         T: 2014-11-04T20:22:30                …\n",
       "      CORR: 8001×6 Matrix{Float32}             \n"
      ]
     },
     "execution_count": 44,
     "metadata": {},
     "output_type": "execute_result"
    }
   ],
   "source": [
    "new_corr_data"
   ]
  },
  {
   "cell_type": "code",
   "execution_count": null,
   "id": "de6129f2",
   "metadata": {},
   "outputs": [],
   "source": []
  }
 ],
 "metadata": {
  "kernelspec": {
   "display_name": "Julia 1.7.2",
   "language": "julia",
   "name": "julia-1.7"
  },
  "language_info": {
   "file_extension": ".jl",
   "mimetype": "application/julia",
   "name": "julia",
   "version": "1.7.2"
  }
 },
 "nbformat": 4,
 "nbformat_minor": 5
}
